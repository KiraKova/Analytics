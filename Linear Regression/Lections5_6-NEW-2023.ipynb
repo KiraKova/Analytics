{
 "cells": [
  {
   "cell_type": "markdown",
   "metadata": {},
   "source": [
    "# Лекция 5-6. Линейная регрессия\n"
   ]
  },
  {
   "cell_type": "code",
   "execution_count": 1,
   "metadata": {},
   "outputs": [
    {
     "name": "stderr",
     "output_type": "stream",
     "text": [
      "C:\\Users\\Jane\\AppData\\Local\\Temp\\ipykernel_13504\\3651752339.py:5: MatplotlibDeprecationWarning: The seaborn styles shipped by Matplotlib are deprecated since 3.6, as they no longer correspond to the styles shipped by seaborn. However, they will remain available as 'seaborn-v0_8-<style>'. Alternatively, directly use the seaborn API instead.\n",
      "  matplotlib.style.use('seaborn')\n"
     ]
    }
   ],
   "source": [
    "import pandas as pd\n",
    "import numpy as np\n",
    "import matplotlib\n",
    "import matplotlib.pyplot as plt\n",
    "matplotlib.style.use('seaborn')\n",
    "%matplotlib inline"
   ]
  },
  {
   "cell_type": "code",
   "execution_count": 2,
   "metadata": {},
   "outputs": [],
   "source": [
    "import os\n",
    "os.chdir(\"C:\\\\Users\\\\Jane\\\\Documents\\\\!myAD\\\\2023\\\\DataSets\")"
   ]
  },
  {
   "cell_type": "markdown",
   "metadata": {},
   "source": [
    "## Пример 5.1 Предсказание цены домов в г. Альбукерке\n",
    "\n",
    "**Датасет**: случайная выборка из 117 записей о продажах домов, совершенных между 15 февраля и 30 апреля 1993. Информация предоставлена Советом риэлтеров (Albuquerque Board of Realtors) г. Альбукерка, США.\n",
    "\n",
    "**Описание данных**:\n",
    "* PRICE - продажная цена в сотнях долларов;\n",
    "* SQFT - площадь в квадратных футах;\n",
    "* AGE - возраст дома (количество лет);\n",
    "* FEATS - количество дополнительных удобств из 11 возможных: dishwasher (посудомоечная машина), refrigerator (холодильник), microwave (СВЧ-печ), disposer (измельчитель отходов), washer (стиральная машина), intercom (домофон), skylight(s) (мансардное окно(а)), compactor (уплотнитель бытовых отходов), dryer (сушилка), handicap fit (приспособлено для инвалидов), cable TV access (доступ к кабельному ТВ);\n",
    "* NE - дом расположен в престижном районе на северо-востоке города (1), или нет (0);\n",
    "* CUST - тип постройки: был ли дом стандартной постройки или нет;\n",
    "* COR - как расположен дом, на углу (1) или нет (0).\n",
    "* TAX - величина налогов за владение домом ($).\n",
    "\n",
    "**Задача**: построить модель, позволяющую по задаваемому набору параметров спрогнозировать цену дома."
   ]
  },
  {
   "cell_type": "code",
   "execution_count": 3,
   "metadata": {},
   "outputs": [
    {
     "data": {
      "text/html": [
       "<div>\n",
       "<style scoped>\n",
       "    .dataframe tbody tr th:only-of-type {\n",
       "        vertical-align: middle;\n",
       "    }\n",
       "\n",
       "    .dataframe tbody tr th {\n",
       "        vertical-align: top;\n",
       "    }\n",
       "\n",
       "    .dataframe thead th {\n",
       "        text-align: right;\n",
       "    }\n",
       "</style>\n",
       "<table border=\"1\" class=\"dataframe\">\n",
       "  <thead>\n",
       "    <tr style=\"text-align: right;\">\n",
       "      <th></th>\n",
       "      <th>PRICE</th>\n",
       "      <th>SQFT</th>\n",
       "      <th>AGE</th>\n",
       "      <th>FEATS</th>\n",
       "      <th>NE</th>\n",
       "      <th>CUST</th>\n",
       "      <th>COR</th>\n",
       "      <th>TAX</th>\n",
       "    </tr>\n",
       "  </thead>\n",
       "  <tbody>\n",
       "    <tr>\n",
       "      <th>0</th>\n",
       "      <td>2050</td>\n",
       "      <td>2650</td>\n",
       "      <td>13</td>\n",
       "      <td>7</td>\n",
       "      <td>1</td>\n",
       "      <td>1</td>\n",
       "      <td>0</td>\n",
       "      <td>1639</td>\n",
       "    </tr>\n",
       "    <tr>\n",
       "      <th>1</th>\n",
       "      <td>2080</td>\n",
       "      <td>2600</td>\n",
       "      <td>-9999</td>\n",
       "      <td>4</td>\n",
       "      <td>1</td>\n",
       "      <td>1</td>\n",
       "      <td>0</td>\n",
       "      <td>1088</td>\n",
       "    </tr>\n",
       "    <tr>\n",
       "      <th>2</th>\n",
       "      <td>2150</td>\n",
       "      <td>2664</td>\n",
       "      <td>6</td>\n",
       "      <td>5</td>\n",
       "      <td>1</td>\n",
       "      <td>1</td>\n",
       "      <td>0</td>\n",
       "      <td>1193</td>\n",
       "    </tr>\n",
       "    <tr>\n",
       "      <th>3</th>\n",
       "      <td>2150</td>\n",
       "      <td>2921</td>\n",
       "      <td>3</td>\n",
       "      <td>6</td>\n",
       "      <td>1</td>\n",
       "      <td>1</td>\n",
       "      <td>0</td>\n",
       "      <td>1635</td>\n",
       "    </tr>\n",
       "    <tr>\n",
       "      <th>4</th>\n",
       "      <td>1999</td>\n",
       "      <td>2580</td>\n",
       "      <td>4</td>\n",
       "      <td>4</td>\n",
       "      <td>1</td>\n",
       "      <td>1</td>\n",
       "      <td>0</td>\n",
       "      <td>1732</td>\n",
       "    </tr>\n",
       "  </tbody>\n",
       "</table>\n",
       "</div>"
      ],
      "text/plain": [
       "   PRICE  SQFT   AGE  FEATS  NE  CUST  COR   TAX\n",
       "0   2050  2650    13      7   1     1    0  1639\n",
       "1   2080  2600 -9999      4   1     1    0  1088\n",
       "2   2150  2664     6      5   1     1    0  1193\n",
       "3   2150  2921     3      6   1     1    0  1635\n",
       "4   1999  2580     4      4   1     1    0  1732"
      ]
     },
     "execution_count": 3,
     "metadata": {},
     "output_type": "execute_result"
    }
   ],
   "source": [
    "df_albuq = pd.read_csv('Albuquerque Home Prices.txt', sep='\\t')\n",
    "df_albuq.head()"
   ]
  },
  {
   "cell_type": "code",
   "execution_count": 4,
   "metadata": {},
   "outputs": [
    {
     "name": "stdout",
     "output_type": "stream",
     "text": [
      "(117, 8)\n"
     ]
    }
   ],
   "source": [
    "print(df_albuq.shape)"
   ]
  },
  {
   "cell_type": "markdown",
   "metadata": {},
   "source": [
    "## I. Первичный анализ набора данных"
   ]
  },
  {
   "cell_type": "markdown",
   "metadata": {},
   "source": [
    "Значения -9999 в современных обозначениях соответствуют ```NaN``` (знгачение не определено, пропуск). Проведем замены этих значений в считанном датасете, исследуем характер их вхождения, решим, что делать с такими пропусками."
   ]
  },
  {
   "cell_type": "code",
   "execution_count": 5,
   "metadata": {},
   "outputs": [
    {
     "data": {
      "text/html": [
       "<div>\n",
       "<style scoped>\n",
       "    .dataframe tbody tr th:only-of-type {\n",
       "        vertical-align: middle;\n",
       "    }\n",
       "\n",
       "    .dataframe tbody tr th {\n",
       "        vertical-align: top;\n",
       "    }\n",
       "\n",
       "    .dataframe thead th {\n",
       "        text-align: right;\n",
       "    }\n",
       "</style>\n",
       "<table border=\"1\" class=\"dataframe\">\n",
       "  <thead>\n",
       "    <tr style=\"text-align: right;\">\n",
       "      <th></th>\n",
       "      <th>PRICE</th>\n",
       "      <th>SQFT</th>\n",
       "      <th>AGE</th>\n",
       "      <th>FEATS</th>\n",
       "      <th>NE</th>\n",
       "      <th>CUST</th>\n",
       "      <th>COR</th>\n",
       "      <th>TAX</th>\n",
       "    </tr>\n",
       "  </thead>\n",
       "  <tbody>\n",
       "    <tr>\n",
       "      <th>0</th>\n",
       "      <td>2050</td>\n",
       "      <td>2650</td>\n",
       "      <td>13.0</td>\n",
       "      <td>7</td>\n",
       "      <td>1</td>\n",
       "      <td>1</td>\n",
       "      <td>0</td>\n",
       "      <td>1639.0</td>\n",
       "    </tr>\n",
       "    <tr>\n",
       "      <th>1</th>\n",
       "      <td>2080</td>\n",
       "      <td>2600</td>\n",
       "      <td>NaN</td>\n",
       "      <td>4</td>\n",
       "      <td>1</td>\n",
       "      <td>1</td>\n",
       "      <td>0</td>\n",
       "      <td>1088.0</td>\n",
       "    </tr>\n",
       "    <tr>\n",
       "      <th>2</th>\n",
       "      <td>2150</td>\n",
       "      <td>2664</td>\n",
       "      <td>6.0</td>\n",
       "      <td>5</td>\n",
       "      <td>1</td>\n",
       "      <td>1</td>\n",
       "      <td>0</td>\n",
       "      <td>1193.0</td>\n",
       "    </tr>\n",
       "    <tr>\n",
       "      <th>3</th>\n",
       "      <td>2150</td>\n",
       "      <td>2921</td>\n",
       "      <td>3.0</td>\n",
       "      <td>6</td>\n",
       "      <td>1</td>\n",
       "      <td>1</td>\n",
       "      <td>0</td>\n",
       "      <td>1635.0</td>\n",
       "    </tr>\n",
       "    <tr>\n",
       "      <th>4</th>\n",
       "      <td>1999</td>\n",
       "      <td>2580</td>\n",
       "      <td>4.0</td>\n",
       "      <td>4</td>\n",
       "      <td>1</td>\n",
       "      <td>1</td>\n",
       "      <td>0</td>\n",
       "      <td>1732.0</td>\n",
       "    </tr>\n",
       "  </tbody>\n",
       "</table>\n",
       "</div>"
      ],
      "text/plain": [
       "   PRICE  SQFT   AGE  FEATS  NE  CUST  COR     TAX\n",
       "0   2050  2650  13.0      7   1     1    0  1639.0\n",
       "1   2080  2600   NaN      4   1     1    0  1088.0\n",
       "2   2150  2664   6.0      5   1     1    0  1193.0\n",
       "3   2150  2921   3.0      6   1     1    0  1635.0\n",
       "4   1999  2580   4.0      4   1     1    0  1732.0"
      ]
     },
     "execution_count": 5,
     "metadata": {},
     "output_type": "execute_result"
    }
   ],
   "source": [
    "df_albuq = df_albuq.replace(-9999, np.nan)\n",
    "df_albuq.head()"
   ]
  },
  {
   "cell_type": "markdown",
   "metadata": {},
   "source": [
    "**1. Проанализируем, много ли строк содержат пропуски.**\n",
    "\n",
    "Обратите внимание на форматированный вывод в Python внутри функции ```print()```.\n",
    "\n",
    "Функция ```df.dropna()``` удаляет строки, содержащие значения ```NaN```. \n",
    "\n",
    "Параметр ```how``` определяет, к какой записи применять функцию: ```how='any'``` - ко всем записям, содержащим хотя бы в одном столбце ```NaN``` (по умолчанию); ```how='all'``` - толькор те строки, в которых значения всех столюцов не определены. \n",
    "\n",
    "Следует ли изменять DataFrame вместо создания нового определяется параметром ```inplace```. Если ```inplace=True```, то удаление записей происходит в исходном DataFrame, иначе создается новый. По умолчанию ```inplace=False``` и изменений в исходном DataFrame не происходит. \n",
    "\n",
    "В напшем случае просто в ```df_albuq``` подсчитывается количество строк, не содержащих ```NaN```, при этом сам DataFrame не изменяется.\n",
    "\n",
    "Подробнее про функцию ```df.dropna()``` можно посмотреть [здесь](https://pandas.pydata.org/docs/reference/api/pandas.DataFrame.dropna.html#)"
   ]
  },
  {
   "cell_type": "code",
   "execution_count": 6,
   "metadata": {},
   "outputs": [
    {
     "name": "stdout",
     "output_type": "stream",
     "text": [
      "Rows without NAN: 66\n",
      "Rows in the data frame: 117\n"
     ]
    }
   ],
   "source": [
    "print('Rows without NAN: {0}'.format(len(df_albuq.dropna(how='any'))))\n",
    "print('Rows in the data frame: {0}'.format(len(df_albuq)))\n"
   ]
  },
  {
   "cell_type": "markdown",
   "metadata": {},
   "source": [
    "Мы видим, что около половины записей содержат хотя бы одно пропущенное значение. Поскольку данных относительно мало, пренебрегать строками с пропусками не стоит.\n",
    "\n",
    "**2. Выясним, сколько пропусков значений в каждом признаке (столбце).**"
   ]
  },
  {
   "cell_type": "code",
   "execution_count": 7,
   "metadata": {},
   "outputs": [
    {
     "data": {
      "text/plain": [
       "PRICE     0\n",
       "SQFT      0\n",
       "AGE      49\n",
       "FEATS     0\n",
       "NE        0\n",
       "CUST      0\n",
       "COR       0\n",
       "TAX      10\n",
       "dtype: int64"
      ]
     },
     "execution_count": 7,
     "metadata": {},
     "output_type": "execute_result"
    }
   ],
   "source": [
    "df_albuq.apply(lambda x: sum(x.isnull()), axis=0)"
   ]
  },
  {
   "cell_type": "markdown",
   "metadata": {},
   "source": [
    "Метод ```DataFrame.apply()``` применяет функцию, указанную в первом аргументе, ко всему датафрейму в направлении, указанном в аргументе ```axis```. Если ```axis=0```, то функция применяется к каждому столбцу, если ```axis=1```, то к каждой строке.\n",
    "\n",
    "Часто в качестве функции удобно указывать код в виде [lambda-функцией](https://pythonist.ru/lambda-funkczii-v-python-s-ih-sintaksisom-i-primerami/). ```Lambda```-функция - это способ коротко (в одну строку) записать небольшую функцию, не задавая её имени. В данном случае лямбда-выражение эквивалентно следующему определению функции:\n",
    "\n",
    "```def f(x):\n",
    "    return sum(x.isnull())```\n",
    "    \n",
    "Метод ```df.isnull()```, примененный к DataFrame, возвращает DataFrame того же размера, что и исходный, содержащий значение ```True```, если в этом месте в исходном DataFrame быд пропуск (```NaN```) и ```False``` во всех остальных случаях. Функция ```sum``` - это встроенная функция Python, подсчитывающая сумму членов последовательности, отсюда следует, что в качестве аргумента ```x``` следует указывать либо столбец либо строку фрейма, что и происходит по синтаксису метода ```DataFrame.apply()```.\n",
    "\n",
    "Документацию смотри [здесь](https://pandas.pydata.org/docs/reference/api/pandas.DataFrame.apply.html) и [здесь](https://pandas.pydata.org/docs/reference/api/pandas.DataFrame.drop.html)\n",
    "\n",
    "Таким образом, представленный в ячейке 7 код подсчитывает количество пропущенных значений в каждом столбце ```df_albuq```."
   ]
  },
  {
   "cell_type": "markdown",
   "metadata": {},
   "source": [
    "Выполнив код, мы видим, что источниками пропущенных значений являются признаки ```AGE``` и ```TAX```. Более того, в колонке ```AGE``` так много пропусков, что проще совсем убрать информацию о возрасте дома из анализа, чем пытаться заделать эти дыры. Если этот признак существенный, то необходимо подумать о нестатистических способах его заполнения - восстановление половины значений признака с помощью методов анализа данных в большинстве случаев неоправдано.  "
   ]
  },
  {
   "cell_type": "code",
   "execution_count": 8,
   "metadata": {},
   "outputs": [],
   "source": [
    "del df_albuq['AGE']"
   ]
  },
  {
   "cell_type": "markdown",
   "metadata": {},
   "source": [
    "В то же время данные столбца ```TAX``` можно попробовать аппроксимировать. Чтобы это сделать, сначала посмотрим, как выглядит распределение значений этого признака."
   ]
  },
  {
   "cell_type": "code",
   "execution_count": 9,
   "metadata": {},
   "outputs": [
    {
     "data": {
      "text/plain": [
       "<Axes: >"
      ]
     },
     "execution_count": 9,
     "metadata": {},
     "output_type": "execute_result"
    },
    {
     "data": {
      "image/png": "[encoded data removed]",
      "text/plain": [
       "<Figure size 800x550 with 1 Axes>"
      ]
     },
     "metadata": {},
     "output_type": "display_data"
    }
   ],
   "source": [
    "# поизменяйте значения параметра bins!\n",
    "df_albuq['TAX'].hist(bins=8)"
   ]
  },
  {
   "cell_type": "code",
   "execution_count": 10,
   "metadata": {},
   "outputs": [
    {
     "data": {
      "text/plain": [
       "count     107.000000\n",
       "mean      793.485981\n",
       "std       308.180276\n",
       "min       223.000000\n",
       "25%       600.000000\n",
       "50%       731.000000\n",
       "75%       919.000000\n",
       "max      1765.000000\n",
       "Name: TAX, dtype: float64"
      ]
     },
     "execution_count": 10,
     "metadata": {},
     "output_type": "execute_result"
    }
   ],
   "source": [
    "df_albuq['TAX'].describe(include='all')"
   ]
  },
  {
   "cell_type": "markdown",
   "metadata": {},
   "source": [
    "Конечно, распределение в столбце ```TAX``` имеет тяжелый 'хвост' вправо, однако медиана не сильно отличается от среднего. С некоторым сомнением признаем распределение налогов похожим на нормальное. Тогда можно заменить пропуски на среднее по столбцу значение. \n",
    "\n",
    "Для этого в pandas есть метод ```Series.fillna```, который заменяет все пропущенные в столбце значения на заданное."
   ]
  },
  {
   "cell_type": "code",
   "execution_count": 11,
   "metadata": {},
   "outputs": [
    {
     "data": {
      "text/plain": [
       "<Axes: >"
      ]
     },
     "execution_count": 11,
     "metadata": {},
     "output_type": "execute_result"
    },
    {
     "data": {
      "image/png": "[encoded data removed]",
      "text/plain": [
       "<Figure size 800x550 with 1 Axes>"
      ]
     },
     "metadata": {},
     "output_type": "display_data"
    }
   ],
   "source": [
    "df_albuq['TAX'] = df_albuq['TAX'].fillna(df_albuq['TAX'].mean())\n",
    "df_albuq['TAX'].hist(bins=8)"
   ]
  },
  {
   "cell_type": "code",
   "execution_count": 12,
   "metadata": {},
   "outputs": [
    {
     "data": {
      "text/plain": [
       "count     117.000000\n",
       "mean      793.485981\n",
       "std       294.597310\n",
       "min       223.000000\n",
       "25%       600.000000\n",
       "50%       752.000000\n",
       "75%       899.000000\n",
       "max      1765.000000\n",
       "Name: TAX, dtype: float64"
      ]
     },
     "execution_count": 12,
     "metadata": {},
     "output_type": "execute_result"
    }
   ],
   "source": [
    "df_albuq['TAX'].describe(include='all')"
   ]
  },
  {
   "cell_type": "markdown",
   "metadata": {},
   "source": [
    "Убедимся, что все проблемы с пропусками устранены. Длина таблицы с пропусками равна длине исходного датасета."
   ]
  },
  {
   "cell_type": "code",
   "execution_count": 13,
   "metadata": {},
   "outputs": [
    {
     "data": {
      "text/plain": [
       "117"
      ]
     },
     "execution_count": 13,
     "metadata": {},
     "output_type": "execute_result"
    }
   ],
   "source": [
    "len(df_albuq.dropna())"
   ]
  },
  {
   "cell_type": "markdown",
   "metadata": {},
   "source": [
    "Составим общее представление о данных. Признаки ```PRICE```, ```SQFT```, ```FEATS``` и ```TAX``` числовые, а признаки ```NE```, ```CUST``` и ```COR``` следует считать номинальными, следовательно, использовать как группирующие. Проведем быстрое исследование на основе знакомого полотна графиков ```scatter_matrix```.\n",
    "\n",
    "Для более тщательного представления о данных постройте график для всего ```df_albuq```; используйте другие подходящие группирующие переменные. Что вы можете сказать о данных? Можно ли признак ```FEATS``` сделать группирующим? Если да, то что нужно изменить в коде, чтобы попробовать разбить на классы по этому признаку? Можно ли признак ```TAX``` сделать группирующим? Если да, то что нужно изменить в коде, чтобы попробовать разбить на классы по этому признаку?"
   ]
  },
  {
   "cell_type": "code",
   "execution_count": 14,
   "metadata": {},
   "outputs": [
    {
     "data": {
      "image/png": "[encoded data removed]",
      "text/plain": [
       "<Figure size 700x700 with 16 Axes>"
      ]
     },
     "metadata": {},
     "output_type": "display_data"
    }
   ],
   "source": [
    "from pandas.plotting import scatter_matrix\n",
    "colors = {0: 'green', 1: 'red'}\n",
    "scatter_matrix(df_albuq[['PRICE','SQFT','FEATS','TAX']],\n",
    "               # кол-во строк и столбцов в таблице\n",
    "               figsize=(7,7),\n",
    "               # ядерные оценки плотности 'kde' или гистограммы ('hist') на диагонали\n",
    "               diagonal='hist',\n",
    "               # цвета классов\n",
    "               c=df_albuq['NE'].replace(colors),\n",
    "               # степень прозрачности точек\n",
    "               alpha=0.5,\n",
    "              );"
   ]
  },
  {
   "cell_type": "markdown",
   "metadata": {},
   "source": [
    "## II. Построение линейной модели\n",
    "\n",
    "### II.1. Построение линейной модели с использованием модуля sklearn.linear_model\n"
   ]
  },
  {
   "cell_type": "markdown",
   "metadata": {},
   "source": [
    "Для построения и использования обычной модели линейной регрессии, основанной на методе найменьших квадратов в модуле ```sklearn.linear_model``` используется класс ```LinearRegression```. Подробнее о свойствах и методах класса см. [здесь](https://scikit-learn.org/stable/modules/generated/sklearn.linear_model.LinearRegression.html#sklearn.linear_model.LinearRegression).\n",
    "\n",
    "Напомним, что  в ```scikit-learn``` принят следующий алгоритм настройки и использования моделей:\n",
    "1. Инициализация модели, задание её параметров (вызов конструктора соответствующего класса).\n",
    "2. Подгонка модели (метод fit и/или fit_transform).\n",
    "3. Анализ результатов (доступ к свойствам объекта), предсказание для новых наблюдений (метод predict).\n",
    "\n",
    "Такой алгоритм мы уже применяли в случае кластеризации с помощью _k_-средних. По аналогии будем действовать при построении линейной регрессии."
   ]
  },
  {
   "cell_type": "code",
   "execution_count": 15,
   "metadata": {},
   "outputs": [],
   "source": [
    "from sklearn.linear_model import LinearRegression"
   ]
  },
  {
   "cell_type": "markdown",
   "metadata": {},
   "source": [
    "Определим независимые переменные регрессии (набор факторов) и ответную переменную (прогноз). В нашем случае мы собираемся прогнозировать цену продажи. В набор факторов пока включим все оставшиеся признаки.   "
   ]
  },
  {
   "cell_type": "code",
   "execution_count": 16,
   "metadata": {},
   "outputs": [],
   "source": [
    "factors = df_albuq.drop('PRICE', axis=1)\n",
    "response = df_albuq['PRICE']"
   ]
  },
  {
   "cell_type": "markdown",
   "metadata": {},
   "source": [
    "1. **Инициализация модели** (объекта класса)\n",
    "\n",
    "В большинстве случаев не требуется изменять параметры инициализации модели, предполагаемые по умолчанию. В случае центрированных (стандартизированных) данных следует задать параметр ```fit_intercept```, который определяет, используется ли в модели свободный член (ответ модели в случае, когда все входные признаки для наблюдения равны нулю). Если ```fit_intercept=True```, то свободный член для модели вычисляется (задано по умолчанию), иначе свободный член полагается равным 0. Аналитик должен самостоятельно предварительно центрировать данные, если это необходимо."
   ]
  },
  {
   "cell_type": "code",
   "execution_count": 17,
   "metadata": {},
   "outputs": [],
   "source": [
    "model = LinearRegression()"
   ]
  },
  {
   "cell_type": "markdown",
   "metadata": {},
   "source": [
    "2. **Обучение модели**: получение коэффициентов регрессии."
   ]
  },
  {
   "cell_type": "code",
   "execution_count": 18,
   "metadata": {},
   "outputs": [
    {
     "data": {
      "text/html": [
       "<style>#sk-container-id-1 {color: black;}#sk-container-id-1 pre{padding: 0;}#sk-container-id-1 div.sk-toggleable {background-color: white;}#sk-container-id-1 label.sk-toggleable__label {cursor: pointer;display: block;width: 100%;margin-bottom: 0;padding: 0.3em;box-sizing: border-box;text-align: center;}#sk-container-id-1 label.sk-toggleable__label-arrow:before {content: \"▸\";float: left;margin-right: 0.25em;color: #696969;}#sk-container-id-1 label.sk-toggleable__label-arrow:hover:before {color: black;}#sk-container-id-1 div.sk-estimator:hover label.sk-toggleable__label-arrow:before {color: black;}#sk-container-id-1 div.sk-toggleable__content {max-height: 0;max-width: 0;overflow: hidden;text-align: left;background-color: #f0f8ff;}#sk-container-id-1 div.sk-toggleable__content pre {margin: 0.2em;color: black;border-radius: 0.25em;background-color: #f0f8ff;}#sk-container-id-1 input.sk-toggleable__control:checked~div.sk-toggleable__content {max-height: 200px;max-width: 100%;overflow: auto;}#sk-container-id-1 input.sk-toggleable__control:checked~label.sk-toggleable__label-arrow:before {content: \"▾\";}#sk-container-id-1 div.sk-estimator input.sk-toggleable__control:checked~label.sk-toggleable__label {background-color: #d4ebff;}#sk-container-id-1 div.sk-label input.sk-toggleable__control:checked~label.sk-toggleable__label {background-color: #d4ebff;}#sk-container-id-1 input.sk-hidden--visually {border: 0;clip: rect(1px 1px 1px 1px);clip: rect(1px, 1px, 1px, 1px);height: 1px;margin: -1px;overflow: hidden;padding: 0;position: absolute;width: 1px;}#sk-container-id-1 div.sk-estimator {font-family: monospace;background-color: #f0f8ff;border: 1px dotted black;border-radius: 0.25em;box-sizing: border-box;margin-bottom: 0.5em;}#sk-container-id-1 div.sk-estimator:hover {background-color: #d4ebff;}#sk-container-id-1 div.sk-parallel-item::after {content: \"\";width: 100%;border-bottom: 1px solid gray;flex-grow: 1;}#sk-container-id-1 div.sk-label:hover label.sk-toggleable__label {background-color: #d4ebff;}#sk-container-id-1 div.sk-serial::before {content: \"\";position: absolute;border-left: 1px solid gray;box-sizing: border-box;top: 0;bottom: 0;left: 50%;z-index: 0;}#sk-container-id-1 div.sk-serial {display: flex;flex-direction: column;align-items: center;background-color: white;padding-right: 0.2em;padding-left: 0.2em;position: relative;}#sk-container-id-1 div.sk-item {position: relative;z-index: 1;}#sk-container-id-1 div.sk-parallel {display: flex;align-items: stretch;justify-content: center;background-color: white;position: relative;}#sk-container-id-1 div.sk-item::before, #sk-container-id-1 div.sk-parallel-item::before {content: \"\";position: absolute;border-left: 1px solid gray;box-sizing: border-box;top: 0;bottom: 0;left: 50%;z-index: -1;}#sk-container-id-1 div.sk-parallel-item {display: flex;flex-direction: column;z-index: 1;position: relative;background-color: white;}#sk-container-id-1 div.sk-parallel-item:first-child::after {align-self: flex-end;width: 50%;}#sk-container-id-1 div.sk-parallel-item:last-child::after {align-self: flex-start;width: 50%;}#sk-container-id-1 div.sk-parallel-item:only-child::after {width: 0;}#sk-container-id-1 div.sk-dashed-wrapped {border: 1px dashed gray;margin: 0 0.4em 0.5em 0.4em;box-sizing: border-box;padding-bottom: 0.4em;background-color: white;}#sk-container-id-1 div.sk-label label {font-family: monospace;font-weight: bold;display: inline-block;line-height: 1.2em;}#sk-container-id-1 div.sk-label-container {text-align: center;}#sk-container-id-1 div.sk-container {/* jupyter's `normalize.less` sets `[hidden] { display: none; }` but bootstrap.min.css set `[hidden] { display: none !important; }` so we also need the `!important` here to be able to override the default hidden behavior on the sphinx rendered scikit-learn.org. See: https://github.com/scikit-learn/scikit-learn/issues/21755 */display: inline-block !important;position: relative;}#sk-container-id-1 div.sk-text-repr-fallback {display: none;}</style><div id=\"sk-container-id-1\" class=\"sk-top-container\"><div class=\"sk-text-repr-fallback\"><pre>LinearRegression()</pre><b>In a Jupyter environment, please rerun this cell to show the HTML representation or trust the notebook. <br />On GitHub, the HTML representation is unable to render, please try loading this page with nbviewer.org.</b></div><div class=\"sk-container\" hidden><div class=\"sk-item\"><div class=\"sk-estimator sk-toggleable\"><input class=\"sk-toggleable__control sk-hidden--visually\" id=\"sk-estimator-id-1\" type=\"checkbox\" checked><label for=\"sk-estimator-id-1\" class=\"sk-toggleable__label sk-toggleable__label-arrow\">LinearRegression</label><div class=\"sk-toggleable__content\"><pre>LinearRegression()</pre></div></div></div></div></div>"
      ],
      "text/plain": [
       "LinearRegression()"
      ]
     },
     "execution_count": 18,
     "metadata": {},
     "output_type": "execute_result"
    }
   ],
   "source": [
    "model.fit(factors, response)"
   ]
  },
  {
   "cell_type": "markdown",
   "metadata": {},
   "source": [
    "3. Применяя различные методы класса ```LinearRegression``` **анализируем** построенную модель.\n",
    "\n",
    "    3.1. Считаем коэффициент детерминации $R^2$ (долю объясненной моделью дисперсии). В нашем случае доля считается от полной дисперсии ответной переменной на множестве обучающих примеров."
   ]
  },
  {
   "cell_type": "code",
   "execution_count": 19,
   "metadata": {},
   "outputs": [
    {
     "name": "stdout",
     "output_type": "stream",
     "text": [
      "R^2: 0.8022436103807493\n"
     ]
    }
   ],
   "source": [
    "print('R^2: {0}'.format(model.score(factors, response)))"
   ]
  },
  {
   "cell_type": "markdown",
   "metadata": {},
   "source": [
    "3.2. Выведем в виде таблицы регрессионные коэффициенты (методом ```model.coef_```) и свободный член (методом  ```model.intercept_```).\n",
    "    \n",
    "Обратите внимание на функцию ```zip```, которая в нашем случае формирует пары связанных значений (название признака, значение соответствующего коэффициента построенной линейной регрессии). Из этих пар формируется DataFrame для аккуратного понятного вывода."
   ]
  },
  {
   "cell_type": "code",
   "execution_count": 20,
   "metadata": {},
   "outputs": [
    {
     "data": {
      "text/html": [
       "<div>\n",
       "<style scoped>\n",
       "    .dataframe tbody tr th:only-of-type {\n",
       "        vertical-align: middle;\n",
       "    }\n",
       "\n",
       "    .dataframe tbody tr th {\n",
       "        vertical-align: top;\n",
       "    }\n",
       "\n",
       "    .dataframe thead th {\n",
       "        text-align: right;\n",
       "    }\n",
       "</style>\n",
       "<table border=\"1\" class=\"dataframe\">\n",
       "  <thead>\n",
       "    <tr style=\"text-align: right;\">\n",
       "      <th></th>\n",
       "      <th>predictor</th>\n",
       "      <th>coef</th>\n",
       "    </tr>\n",
       "  </thead>\n",
       "  <tbody>\n",
       "    <tr>\n",
       "      <th>0</th>\n",
       "      <td>intercept</td>\n",
       "      <td>83.175919</td>\n",
       "    </tr>\n",
       "    <tr>\n",
       "      <th>1</th>\n",
       "      <td>SQFT</td>\n",
       "      <td>0.291978</td>\n",
       "    </tr>\n",
       "    <tr>\n",
       "      <th>2</th>\n",
       "      <td>FEATS</td>\n",
       "      <td>12.176743</td>\n",
       "    </tr>\n",
       "    <tr>\n",
       "      <th>3</th>\n",
       "      <td>NE</td>\n",
       "      <td>8.011604</td>\n",
       "    </tr>\n",
       "    <tr>\n",
       "      <th>4</th>\n",
       "      <td>CUST</td>\n",
       "      <td>133.014342</td>\n",
       "    </tr>\n",
       "    <tr>\n",
       "      <th>5</th>\n",
       "      <td>COR</td>\n",
       "      <td>-65.800841</td>\n",
       "    </tr>\n",
       "    <tr>\n",
       "      <th>6</th>\n",
       "      <td>TAX</td>\n",
       "      <td>0.541942</td>\n",
       "    </tr>\n",
       "  </tbody>\n",
       "</table>\n",
       "</div>"
      ],
      "text/plain": [
       "   predictor        coef\n",
       "0  intercept   83.175919\n",
       "1       SQFT    0.291978\n",
       "2      FEATS   12.176743\n",
       "3         NE    8.011604\n",
       "4       CUST  133.014342\n",
       "5        COR  -65.800841\n",
       "6        TAX    0.541942"
      ]
     },
     "execution_count": 20,
     "metadata": {},
     "output_type": "execute_result"
    }
   ],
   "source": [
    "coef = pd.DataFrame(zip(['intercept'] + factors.columns.tolist(), [model.intercept_] + model.coef_.tolist()),\n",
    "                    columns=['predictor', 'coef'])\n",
    "coef"
   ]
  },
  {
   "cell_type": "markdown",
   "metadata": {},
   "source": [
    "К сожалению, в ```sklearn``` не предусмотрена процедура определения статистической значимости регрессионных коэффициентов. Поэтому соответствующий код придется писать вручную, используя знания о распределении коэффициентов модели. \n",
    "\n",
    "При анализе иногда удобнее воспользоваться пакетом ```statsmodels```, в котором есть удобный метод ```summary```, предоставляющий целых три блока информации о построенной модели."
   ]
  },
  {
   "cell_type": "markdown",
   "metadata": {},
   "source": [
    "### II.2. Построение линейной модели с использованием модуля statsmodels. Анализ остатков"
   ]
  },
  {
   "cell_type": "code",
   "execution_count": 21,
   "metadata": {},
   "outputs": [],
   "source": [
    "import statsmodels.formula.api as smf\n",
    "#import statsmodels.graphics.api as smg\n",
    "#import statsmodels.stats.api as sms\n",
    "#from statsmodels.stats.descriptivestats import Description"
   ]
  },
  {
   "cell_type": "code",
   "execution_count": 22,
   "metadata": {
    "scrolled": false
   },
   "outputs": [
    {
     "name": "stdout",
     "output_type": "stream",
     "text": [
      "                            OLS Regression Results                            \n",
      "==============================================================================\n",
      "Dep. Variable:                  PRICE   R-squared:                       0.802\n",
      "Model:                            OLS   Adj. R-squared:                  0.791\n",
      "Method:                 Least Squares   F-statistic:                     74.37\n",
      "Date:                Mon, 20 Nov 2023   Prob (F-statistic):           2.01e-36\n",
      "Time:                        13:54:24   Log-Likelihood:                -765.84\n",
      "No. Observations:                 117   AIC:                             1546.\n",
      "Df Residuals:                     110   BIC:                             1565.\n",
      "Df Model:                           6                                         \n",
      "Covariance Type:            nonrobust                                         \n",
      "==============================================================================\n",
      "                 coef    std err          t      P>|t|      [0.025      0.975]\n",
      "------------------------------------------------------------------------------\n",
      "Intercept     83.1759     63.308      1.314      0.192     -42.286     208.638\n",
      "SQFT           0.2920      0.059      4.924      0.000       0.174       0.409\n",
      "FEATS         12.1767     12.818      0.950      0.344     -13.225      37.579\n",
      "NE             8.0116     35.098      0.228      0.820     -61.544      77.568\n",
      "CUST         133.0143     44.756      2.972      0.004      44.319     221.710\n",
      "COR          -65.8008     41.839     -1.573      0.119    -148.715      17.113\n",
      "TAX            0.5419      0.102      5.303      0.000       0.339       0.744\n",
      "==============================================================================\n",
      "Omnibus:                       11.630   Durbin-Watson:                   1.585\n",
      "Prob(Omnibus):                  0.003   Jarque-Bera (JB):               33.049\n",
      "Skew:                          -0.022   Prob(JB):                     6.66e-08\n",
      "Kurtosis:                       5.603   Cond. No.                     8.00e+03\n",
      "==============================================================================\n",
      "\n",
      "Notes:\n",
      "[1] Standard Errors assume that the covariance matrix of the errors is correctly specified.\n",
      "[2] The condition number is large,  8e+03. This might indicate that there are\n",
      "strong multicollinearity or other numerical problems.\n"
     ]
    }
   ],
   "source": [
    "model_linear_ols = smf.ols(formula='PRICE~SQFT+FEATS+NE+CUST+COR+TAX', data=df_albuq)\n",
    "result_model_all = model_linear_ols.fit()\n",
    "print(result_model_all.summary(alpha=0.05))"
   ]
  },
  {
   "cell_type": "code",
   "execution_count": 23,
   "metadata": {},
   "outputs": [
    {
     "name": "stdout",
     "output_type": "stream",
     "text": [
      "     PRICE  SQFT  FEATS  NE  CUST  COR     TAX     forecast   residuals\n",
      "0     2050  2650      7   1     1    0  1639.0  1971.423521  -78.576479\n",
      "1     2080  2600      4   1     1    0  1088.0  1621.684194 -458.315806\n",
      "2     2150  2664      5   1     1    0  1193.0  1709.451454 -440.548546\n",
      "3     2150  2921      6   1     1    0  1635.0  2036.204977 -113.795023\n",
      "4     1999  2580      4   1     1    0  1732.0  1964.855487  -34.144513\n",
      "..     ...   ...    ...  ..   ...  ...     ...          ...         ...\n",
      "112    872  1229      3   0     0    0   721.0   869.287195   -2.712805\n",
      "113    870  1273      4   0     0    0   638.0   849.329747  -20.670253\n",
      "114    869  1165      4   0     0    0   694.0   848.144920  -20.855080\n",
      "115    766  1200      4   0     0    1   634.0   760.046761   -5.953239\n",
      "116    739   970      4   0     0    1   541.0   642.491246  -96.508754\n",
      "\n",
      "[117 rows x 9 columns]\n",
      "MSE LSM: 168.4550588568736\n"
     ]
    }
   ],
   "source": [
    "# вычисляем остатки и среднеквадратичную ошибку\n",
    "# residual_all = pd.DataFrame()\n",
    "residual_all = df_albuq.copy()\n",
    "\n",
    "residual_all['forecast'] = result_model_all.predict(residual_all)\n",
    "#residual_all['forecast1'] = result_model_all.params[0] + result_model_all.params[1]*residual_all['SQFT'] + result_model_all.params[2]*residual_all['FEATS'] + result_model_all.params[3]*residual_all['NE'] + result_model_all.params[4]*residual_all['CUST'] + result_model_all.params[5]*residual_all['COR'] + result_model_all.params[6]*residual_all['TAX']\n",
    "\n",
    "residual_all['residuals'] = residual_all['forecast'] - residual_all['PRICE']\n",
    "print(residual_all)\n",
    "\n",
    "MSE_ols=np.sqrt(np.sum(residual_all['residuals']*residual_all['residuals'])/residual_all.shape[0])\n",
    "print('MSE LSM:', MSE_ols)\n"
   ]
  },
  {
   "cell_type": "code",
   "execution_count": 24,
   "metadata": {},
   "outputs": [
    {
     "data": {
      "text/plain": [
       "<Axes: >"
      ]
     },
     "execution_count": 24,
     "metadata": {},
     "output_type": "execute_result"
    },
    {
     "data": {
      "image/png": "[encoded data removed]",
      "text/plain": [
       "<Figure size 800x550 with 1 Axes>"
      ]
     },
     "metadata": {},
     "output_type": "display_data"
    }
   ],
   "source": [
    "# нарисуем гистаграмму для остатков\n",
    "residual_all['residuals'].hist(bins=15)"
   ]
  },
  {
   "cell_type": "code",
   "execution_count": 25,
   "metadata": {
    "scrolled": true
   },
   "outputs": [
    {
     "data": {
      "text/plain": [
       "<matplotlib.collections.PathCollection at 0x2000c302d50>"
      ]
     },
     "execution_count": 25,
     "metadata": {},
     "output_type": "execute_result"
    },
    {
     "data": {
      "image/png": "[encoded data removed]",
      "text/plain": [
       "<Figure size 800x550 with 1 Axes>"
      ]
     },
     "metadata": {},
     "output_type": "display_data"
    }
   ],
   "source": [
    "# нарисуем остатки в зависимости от цены\n",
    "plt.scatter(residual_all['PRICE'],residual_all['residuals'])"
   ]
  },
  {
   "cell_type": "code",
   "execution_count": 26,
   "metadata": {},
   "outputs": [
    {
     "name": "stdout",
     "output_type": "stream",
     "text": [
      "Описательная статистика остатков\n"
     ]
    },
    {
     "data": {
      "text/plain": [
       "count    1.170000e+02\n",
       "mean    -2.098834e-13\n",
       "std      1.691796e+02\n",
       "min     -5.742464e+02\n",
       "25%     -8.251470e+01\n",
       "50%     -4.126732e+00\n",
       "75%      8.406829e+01\n",
       "max      6.493437e+02\n",
       "Name: residuals, dtype: float64"
      ]
     },
     "execution_count": 26,
     "metadata": {},
     "output_type": "execute_result"
    }
   ],
   "source": [
    "# выведем описательную статистику остатков с помощью метода pandas\n",
    "print(\"Описательная статистика остатков\")\n",
    "residual_all['residuals'].describe()"
   ]
  },
  {
   "cell_type": "code",
   "execution_count": 27,
   "metadata": {},
   "outputs": [
    {
     "name": "stdout",
     "output_type": "stream",
     "text": [
      "Подробная описательная статистика остатков\n"
     ]
    },
    {
     "data": {
      "text/html": [
       "<table class=\"simpletable\">\n",
       "<caption>Descriptive Statistics</caption>\n",
       "<tr>\n",
       "  <th>nobs</th>              <td>117.0</td>        \n",
       "</tr>\n",
       "<tr>\n",
       "  <th>missing</th>            <td>0.0</td>         \n",
       "</tr>\n",
       "<tr>\n",
       "  <th>max</th>         <td>649.343688789774</td>   \n",
       "</tr>\n",
       "<tr>\n",
       "  <th>min</th>         <td>-574.246359511601</td>  \n",
       "</tr>\n",
       "<tr>\n",
       "  <th>range</th>       <td>1223.590048301375</td>  \n",
       "</tr>\n",
       "<tr>\n",
       "  <th>median</th>     <td>-4.126731525252353</td>  \n",
       "</tr>\n",
       "<tr>\n",
       "  <th>mean</th>     <td>-2.098833927168296e-13</td>\n",
       "</tr>\n",
       "<tr>\n",
       "  <th>std_err</th>    <td>15.640659561031162</td>  \n",
       "</tr>\n",
       "<tr>\n",
       "  <th>upper_ci</th>   <td>30.978297021638678</td>  \n",
       "</tr>\n",
       "<tr>\n",
       "  <th>lower_ci</th>   <td>-30.978297021639097</td> \n",
       "</tr>\n",
       "<tr>\n",
       "  <th>std</th>        <td>169.17960008812184</td>  \n",
       "</tr>\n",
       "<tr>\n",
       "  <th>iqr</th>         <td>166.5829858442803</td>  \n",
       "</tr>\n",
       "<tr>\n",
       "  <th>mad</th>         <td>119.9663573859424</td>  \n",
       "</tr>\n",
       "<tr>\n",
       "  <th>coef_var</th>   <td>-806064729077328.8</td>  \n",
       "</tr>\n",
       "<tr>\n",
       "  <th>skew</th>      <td>0.022127769982974613</td> \n",
       "</tr>\n",
       "<tr>\n",
       "  <th>kurtosis</th>    <td>5.603323591173921</td>  \n",
       "</tr>\n",
       "<tr>\n",
       "  <th>1%</th>         <td>-455.4730448024642</td>  \n",
       "</tr>\n",
       "<tr>\n",
       "  <th>5%</th>         <td>-255.66161294044662</td> \n",
       "</tr>\n",
       "<tr>\n",
       "  <th>10%</th>        <td>-170.94157972185462</td> \n",
       "</tr>\n",
       "<tr>\n",
       "  <th>25%</th>        <td>-82.51469922093747</td>  \n",
       "</tr>\n",
       "<tr>\n",
       "  <th>50%</th>        <td>-4.126731525252353</td>  \n",
       "</tr>\n",
       "<tr>\n",
       "  <th>75%</th>         <td>84.06828662334283</td>  \n",
       "</tr>\n",
       "<tr>\n",
       "  <th>90%</th>         <td>165.6372603855937</td>  \n",
       "</tr>\n",
       "<tr>\n",
       "  <th>95%</th>         <td>278.4827357968752</td>  \n",
       "</tr>\n",
       "<tr>\n",
       "  <th>99%</th>         <td>387.7825829071613</td>  \n",
       "</tr>\n",
       "</table>"
      ],
      "text/latex": [
       "\\begin{center}\n",
       "\\begin{tabular}{lc}\n",
       "\\toprule\n",
       "\\textbf{nobs}      &         117.0           \\\\\n",
       "\\textbf{missing}   &          0.0            \\\\\n",
       "\\textbf{max}       &    649.343688789774     \\\\\n",
       "\\textbf{min}       &   -574.246359511601     \\\\\n",
       "\\textbf{range}     &   1223.590048301375     \\\\\n",
       "\\textbf{median}    &   -4.126731525252353    \\\\\n",
       "\\textbf{mean}      & -2.098833927168296e-13  \\\\\n",
       "\\textbf{std\\_err}  &   15.640659561031162    \\\\\n",
       "\\textbf{upper\\_ci} &   30.978297021638678    \\\\\n",
       "\\textbf{lower\\_ci} &  -30.978297021639097    \\\\\n",
       "\\textbf{std}       &   169.17960008812184    \\\\\n",
       "\\textbf{iqr}       &   166.5829858442803     \\\\\n",
       "\\textbf{mad}       &   119.9663573859424     \\\\\n",
       "\\textbf{coef\\_var} &   -806064729077328.8    \\\\\n",
       "\\textbf{skew}      &  0.022127769982974613   \\\\\n",
       "\\textbf{kurtosis}  &   5.603323591173921     \\\\\n",
       "\\textbf{1\\%}       &   -455.4730448024642    \\\\\n",
       "\\textbf{5\\%}       &  -255.66161294044662    \\\\\n",
       "\\textbf{10\\%}      &  -170.94157972185462    \\\\\n",
       "\\textbf{25\\%}      &   -82.51469922093747    \\\\\n",
       "\\textbf{50\\%}      &   -4.126731525252353    \\\\\n",
       "\\textbf{75\\%}      &   84.06828662334283     \\\\\n",
       "\\textbf{90\\%}      &   165.6372603855937     \\\\\n",
       "\\textbf{95\\%}      &   278.4827357968752     \\\\\n",
       "\\textbf{99\\%}      &   387.7825829071613     \\\\\n",
       "\\bottomrule\n",
       "\\end{tabular}\n",
       "%\\caption{Descriptive Statistics}\n",
       "\\end{center}"
      ],
      "text/plain": [
       "<class 'statsmodels.iolib.table.SimpleTable'>"
      ]
     },
     "metadata": {},
     "output_type": "display_data"
    }
   ],
   "source": [
    "# выведем подробную (список задается) описательную статистику остатков с помощью функции модуля statsmodels\n",
    "from statsmodels.stats.descriptivestats import Description\n",
    "print(\"Подробная описательная статистика остатков\")\n",
    "result = Description(\n",
    "    residual_all['residuals'],\n",
    "    stats=[\"nobs\", \"missing\", \"max\", \"min\", \"range\", \"median\", \"mean\", \"std_err\", \"ci\", \"ci\", \"std\", \"iqr\", \"mad\", \"coef_var\", \"skew\", \"kurtosis\",\n",
    "           \"percentiles\", \"distinct\", \"top\", \"freq\"],\n",
    "    alpha=0.05,\n",
    "    use_t=True)\n",
    "display(result.summary())"
   ]
  },
  {
   "cell_type": "code",
   "execution_count": 28,
   "metadata": {},
   "outputs": [
    {
     "name": "stdout",
     "output_type": "stream",
     "text": [
      "SignificanceResult(statistic=33.04885483175425, pvalue=6.660891457519387e-08)\n",
      "NormaltestResult(statistic=11.630378210787336, pvalue=0.0029819163776798456)\n",
      "ShapiroResult(statistic=0.9535768628120422, pvalue=0.00048177994904108346)\n",
      "KstestResult(statistic=0.515702745181986, pvalue=1.9720688047601474e-29, statistic_location=-2.5323664350032686, statistic_sign=1)\n"
     ]
    }
   ],
   "source": [
    "# дополнительная проверка остатков на нормальность с помощью различных критериев\n",
    "from scipy import stats\n",
    "print(stats.jarque_bera(residual_all['residuals']))\n",
    "print(stats.normaltest(residual_all['residuals']))\n",
    "print(stats.shapiro(residual_all['residuals']))\n",
    "print(stats.kstest(residual_all['residuals'], 'norm'))"
   ]
  },
  {
   "cell_type": "code",
   "execution_count": 29,
   "metadata": {},
   "outputs": [
    {
     "data": {
      "text/html": [
       "<div>\n",
       "<style scoped>\n",
       "    .dataframe tbody tr th:only-of-type {\n",
       "        vertical-align: middle;\n",
       "    }\n",
       "\n",
       "    .dataframe tbody tr th {\n",
       "        vertical-align: top;\n",
       "    }\n",
       "\n",
       "    .dataframe thead th {\n",
       "        text-align: right;\n",
       "    }\n",
       "</style>\n",
       "<table border=\"1\" class=\"dataframe\">\n",
       "  <thead>\n",
       "    <tr style=\"text-align: right;\">\n",
       "      <th></th>\n",
       "      <th>PRICE</th>\n",
       "      <th>SQFT</th>\n",
       "      <th>FEATS</th>\n",
       "      <th>NE</th>\n",
       "      <th>CUST</th>\n",
       "      <th>COR</th>\n",
       "      <th>TAX</th>\n",
       "    </tr>\n",
       "  </thead>\n",
       "  <tbody>\n",
       "    <tr>\n",
       "      <th>PRICE</th>\n",
       "      <td>1.000000</td>\n",
       "      <td>0.844795</td>\n",
       "      <td>0.420272</td>\n",
       "      <td>0.167840</td>\n",
       "      <td>0.555292</td>\n",
       "      <td>-0.079293</td>\n",
       "      <td>0.844889</td>\n",
       "    </tr>\n",
       "    <tr>\n",
       "      <th>SQFT</th>\n",
       "      <td>0.844795</td>\n",
       "      <td>1.000000</td>\n",
       "      <td>0.394925</td>\n",
       "      <td>0.145030</td>\n",
       "      <td>0.520102</td>\n",
       "      <td>0.040528</td>\n",
       "      <td>0.832674</td>\n",
       "    </tr>\n",
       "    <tr>\n",
       "      <th>FEATS</th>\n",
       "      <td>0.420272</td>\n",
       "      <td>0.394925</td>\n",
       "      <td>1.000000</td>\n",
       "      <td>0.190016</td>\n",
       "      <td>0.241964</td>\n",
       "      <td>-0.041547</td>\n",
       "      <td>0.419473</td>\n",
       "    </tr>\n",
       "    <tr>\n",
       "      <th>NE</th>\n",
       "      <td>0.167840</td>\n",
       "      <td>0.145030</td>\n",
       "      <td>0.190016</td>\n",
       "      <td>1.000000</td>\n",
       "      <td>0.043033</td>\n",
       "      <td>-0.077336</td>\n",
       "      <td>0.189230</td>\n",
       "    </tr>\n",
       "    <tr>\n",
       "      <th>CUST</th>\n",
       "      <td>0.555292</td>\n",
       "      <td>0.520102</td>\n",
       "      <td>0.241964</td>\n",
       "      <td>0.043033</td>\n",
       "      <td>1.000000</td>\n",
       "      <td>-0.003994</td>\n",
       "      <td>0.444906</td>\n",
       "    </tr>\n",
       "    <tr>\n",
       "      <th>COR</th>\n",
       "      <td>-0.079293</td>\n",
       "      <td>0.040528</td>\n",
       "      <td>-0.041547</td>\n",
       "      <td>-0.077336</td>\n",
       "      <td>-0.003994</td>\n",
       "      <td>1.000000</td>\n",
       "      <td>-0.058329</td>\n",
       "    </tr>\n",
       "    <tr>\n",
       "      <th>TAX</th>\n",
       "      <td>0.844889</td>\n",
       "      <td>0.832674</td>\n",
       "      <td>0.419473</td>\n",
       "      <td>0.189230</td>\n",
       "      <td>0.444906</td>\n",
       "      <td>-0.058329</td>\n",
       "      <td>1.000000</td>\n",
       "    </tr>\n",
       "  </tbody>\n",
       "</table>\n",
       "</div>"
      ],
      "text/plain": [
       "          PRICE      SQFT     FEATS        NE      CUST       COR       TAX\n",
       "PRICE  1.000000  0.844795  0.420272  0.167840  0.555292 -0.079293  0.844889\n",
       "SQFT   0.844795  1.000000  0.394925  0.145030  0.520102  0.040528  0.832674\n",
       "FEATS  0.420272  0.394925  1.000000  0.190016  0.241964 -0.041547  0.419473\n",
       "NE     0.167840  0.145030  0.190016  1.000000  0.043033 -0.077336  0.189230\n",
       "CUST   0.555292  0.520102  0.241964  0.043033  1.000000 -0.003994  0.444906\n",
       "COR   -0.079293  0.040528 -0.041547 -0.077336 -0.003994  1.000000 -0.058329\n",
       "TAX    0.844889  0.832674  0.419473  0.189230  0.444906 -0.058329  1.000000"
      ]
     },
     "execution_count": 29,
     "metadata": {},
     "output_type": "execute_result"
    }
   ],
   "source": [
    "df_albuq.corr()"
   ]
  },
  {
   "cell_type": "code",
   "execution_count": 30,
   "metadata": {
    "scrolled": true
   },
   "outputs": [
    {
     "name": "stdout",
     "output_type": "stream",
     "text": [
      "                            OLS Regression Results                            \n",
      "==============================================================================\n",
      "Dep. Variable:                  PRICE   R-squared:                       0.752\n",
      "Model:                            OLS   Adj. R-squared:                  0.741\n",
      "Method:                 Least Squares   F-statistic:                     67.21\n",
      "Date:                Mon, 20 Nov 2023   Prob (F-statistic):           5.58e-32\n",
      "Time:                        13:54:24   Log-Likelihood:                -779.15\n",
      "No. Observations:                 117   AIC:                             1570.\n",
      "Df Residuals:                     111   BIC:                             1587.\n",
      "Df Model:                           5                                         \n",
      "Covariance Type:            nonrobust                                         \n",
      "==============================================================================\n",
      "                 coef    std err          t      P>|t|      [0.025      0.975]\n",
      "------------------------------------------------------------------------------\n",
      "Intercept     73.4047     70.589      1.040      0.301     -66.472     213.282\n",
      "SQFT           0.5316      0.043     12.415      0.000       0.447       0.616\n",
      "FEATS         22.7774     14.123      1.613      0.110      -5.208      50.763\n",
      "NE            25.0913     38.986      0.644      0.521     -52.162     102.344\n",
      "CUST         137.1494     49.916      2.748      0.007      38.237     236.062\n",
      "COR          -99.3049     46.135     -2.152      0.034    -190.724      -7.886\n",
      "==============================================================================\n",
      "Omnibus:                       24.493   Durbin-Watson:                   1.536\n",
      "Prob(Omnibus):                  0.000   Jarque-Bera (JB):              105.804\n",
      "Skew:                          -0.522   Prob(JB):                     1.06e-23\n",
      "Kurtosis:                       7.540   Cond. No.                     7.21e+03\n",
      "==============================================================================\n",
      "\n",
      "Notes:\n",
      "[1] Standard Errors assume that the covariance matrix of the errors is correctly specified.\n",
      "[2] The condition number is large, 7.21e+03. This might indicate that there are\n",
      "strong multicollinearity or other numerical problems.\n"
     ]
    }
   ],
   "source": [
    "model_linear_ols = smf.ols(formula='PRICE~SQFT+FEATS+NE+CUST+COR', data=df_albuq)\n",
    "result_noTAX = model_linear_ols.fit()\n",
    "print(result_noTAX.summary(alpha=0.05))"
   ]
  },
  {
   "cell_type": "code",
   "execution_count": 34,
   "metadata": {},
   "outputs": [
    {
     "name": "stdout",
     "output_type": "stream",
     "text": [
      "                            OLS Regression Results                            \n",
      "==============================================================================\n",
      "Dep. Variable:                   SQFT   R-squared:                       0.356\n",
      "Model:                            OLS   Adj. R-squared:                  0.333\n",
      "Method:                 Least Squares   F-statistic:                     15.49\n",
      "Date:                Mon, 20 Nov 2023   Prob (F-statistic):           4.07e-10\n",
      "Time:                        14:05:46   Log-Likelihood:                -872.28\n",
      "No. Observations:                 117   AIC:                             1755.\n",
      "Df Residuals:                     112   BIC:                             1768.\n",
      "Df Model:                           4                                         \n",
      "Covariance Type:            nonrobust                                         \n",
      "==============================================================================\n",
      "                 coef    std err          t      P>|t|      [0.025      0.975]\n",
      "------------------------------------------------------------------------------\n",
      "Intercept   1092.6786    116.635      9.368      0.000     861.581    1323.776\n",
      "FEATS        101.8958     29.641      3.438      0.001      43.167     160.625\n",
      "NE            86.6071     85.640      1.011      0.314     -83.078     256.292\n",
      "CUST         557.9684     96.713      5.769      0.000     366.343     749.593\n",
      "COR           79.7343    101.527      0.785      0.434    -121.427     280.896\n",
      "==============================================================================\n",
      "Omnibus:                       21.516   Durbin-Watson:                   1.568\n",
      "Prob(Omnibus):                  0.000   Jarque-Bera (JB):               31.100\n",
      "Skew:                           0.907   Prob(JB):                     1.77e-07\n",
      "Kurtosis:                       4.758   Cond. No.                         13.0\n",
      "==============================================================================\n",
      "\n",
      "Notes:\n",
      "[1] Standard Errors assume that the covariance matrix of the errors is correctly specified.\n"
     ]
    }
   ],
   "source": [
    "model_linear_ols = smf.ols(formula='SQFT~FEATS+NE+CUST+COR', data=df_albuq)\n",
    "result_SQFTall = model_linear_ols.fit()\n",
    "print(result_SQFTall.summary(alpha=0.05))"
   ]
  },
  {
   "cell_type": "code",
   "execution_count": 35,
   "metadata": {},
   "outputs": [
    {
     "name": "stdout",
     "output_type": "stream",
     "text": [
      "                            OLS Regression Results                            \n",
      "==============================================================================\n",
      "Dep. Variable:                   SQFT   R-squared:                       0.024\n",
      "Model:                            OLS   Adj. R-squared:                  0.007\n",
      "Method:                 Least Squares   F-statistic:                     1.385\n",
      "Date:                Mon, 20 Nov 2023   Prob (F-statistic):              0.254\n",
      "Time:                        14:06:27   Log-Likelihood:                -896.64\n",
      "No. Observations:                 117   AIC:                             1799.\n",
      "Df Residuals:                     114   BIC:                             1808.\n",
      "Df Model:                           2                                         \n",
      "Covariance Type:            nonrobust                                         \n",
      "==============================================================================\n",
      "                 coef    std err          t      P>|t|      [0.025      0.975]\n",
      "------------------------------------------------------------------------------\n",
      "Intercept   1530.8652     88.339     17.329      0.000    1355.867    1705.864\n",
      "NE           164.8893    102.679      1.606      0.111     -38.516     368.295\n",
      "COR           69.4729    123.876      0.561      0.576    -175.924     314.870\n",
      "==============================================================================\n",
      "Omnibus:                       27.256   Durbin-Watson:                   1.031\n",
      "Prob(Omnibus):                  0.000   Jarque-Bera (JB):               39.894\n",
      "Skew:                           1.144   Prob(JB):                     2.17e-09\n",
      "Kurtosis:                       4.717   Cond. No.                         3.57\n",
      "==============================================================================\n",
      "\n",
      "Notes:\n",
      "[1] Standard Errors assume that the covariance matrix of the errors is correctly specified.\n"
     ]
    }
   ],
   "source": [
    "model_linear_ols = smf.ols(formula='SQFT~NE+COR', data=df_albuq)\n",
    "result_SQFT = model_linear_ols.fit()\n",
    "print(result_SQFT.summary(alpha=0.05))"
   ]
  },
  {
   "cell_type": "code",
   "execution_count": 36,
   "metadata": {},
   "outputs": [
    {
     "name": "stdout",
     "output_type": "stream",
     "text": [
      "                            OLS Regression Results                            \n",
      "==============================================================================\n",
      "Dep. Variable:                  PRICE   R-squared:                       0.728\n",
      "Model:                            OLS   Adj. R-squared:                  0.721\n",
      "Method:                 Least Squares   F-statistic:                     100.8\n",
      "Date:                Mon, 20 Nov 2023   Prob (F-statistic):           8.41e-32\n",
      "Time:                        14:07:42   Log-Likelihood:                -784.50\n",
      "No. Observations:                 117   AIC:                             1577.\n",
      "Df Residuals:                     113   BIC:                             1588.\n",
      "Df Model:                           3                                         \n",
      "Covariance Type:            nonrobust                                         \n",
      "==============================================================================\n",
      "                 coef    std err          t      P>|t|      [0.025      0.975]\n",
      "------------------------------------------------------------------------------\n",
      "Intercept     49.2670     64.867      0.760      0.449     -79.247     177.781\n",
      "SQFT           0.6130      0.036     16.993      0.000       0.542       0.685\n",
      "NE            29.6426     39.995      0.741      0.460     -49.594     108.879\n",
      "COR         -107.2639     47.780     -2.245      0.027    -201.925     -12.603\n",
      "==============================================================================\n",
      "Omnibus:                       22.231   Durbin-Watson:                   1.583\n",
      "Prob(Omnibus):                  0.000   Jarque-Bera (JB):              120.896\n",
      "Skew:                          -0.289   Prob(JB):                     5.60e-27\n",
      "Kurtosis:                       7.946   Cond. No.                     6.25e+03\n",
      "==============================================================================\n",
      "\n",
      "Notes:\n",
      "[1] Standard Errors assume that the covariance matrix of the errors is correctly specified.\n",
      "[2] The condition number is large, 6.25e+03. This might indicate that there are\n",
      "strong multicollinearity or other numerical problems.\n"
     ]
    }
   ],
   "source": [
    "model_linear_ols = smf.ols(formula='PRICE~SQFT+NE+COR', data=df_albuq)\n",
    "result_SQFT_NE_COR = model_linear_ols.fit()\n",
    "print(result_SQFT_NE_COR.summary(alpha=0.05))"
   ]
  },
  {
   "cell_type": "code",
   "execution_count": 37,
   "metadata": {},
   "outputs": [
    {
     "name": "stdout",
     "output_type": "stream",
     "text": [
      "                            OLS Regression Results                            \n",
      "==============================================================================\n",
      "Dep. Variable:                  PRICE   R-squared:                       0.727\n",
      "Model:                            OLS   Adj. R-squared:                  0.722\n",
      "Method:                 Least Squares   F-statistic:                     151.5\n",
      "Date:                Mon, 20 Nov 2023   Prob (F-statistic):           7.92e-33\n",
      "Time:                        14:09:37   Log-Likelihood:                -784.79\n",
      "No. Observations:                 117   AIC:                             1576.\n",
      "Df Residuals:                     114   BIC:                             1584.\n",
      "Df Model:                           2                                         \n",
      "Covariance Type:            nonrobust                                         \n",
      "==============================================================================\n",
      "                 coef    std err          t      P>|t|      [0.025      0.975]\n",
      "------------------------------------------------------------------------------\n",
      "Intercept     63.0123     62.037      1.016      0.312     -59.882     185.907\n",
      "SQFT           0.6170      0.036     17.330      0.000       0.546       0.688\n",
      "COR         -110.2447     47.516     -2.320      0.022    -204.374     -16.115\n",
      "==============================================================================\n",
      "Omnibus:                       24.362   Durbin-Watson:                   1.601\n",
      "Prob(Omnibus):                  0.000   Jarque-Bera (JB):              133.434\n",
      "Skew:                          -0.393   Prob(JB):                     1.06e-29\n",
      "Kurtosis:                       8.172   Cond. No.                     5.84e+03\n",
      "==============================================================================\n",
      "\n",
      "Notes:\n",
      "[1] Standard Errors assume that the covariance matrix of the errors is correctly specified.\n",
      "[2] The condition number is large, 5.84e+03. This might indicate that there are\n",
      "strong multicollinearity or other numerical problems.\n"
     ]
    }
   ],
   "source": [
    "model_linear_ols = smf.ols(formula='PRICE~SQFT+COR', data=df_albuq)\n",
    "result_SQFT_COR = model_linear_ols.fit()\n",
    "print(result_SQFT_COR.summary(alpha=0.05))"
   ]
  },
  {
   "cell_type": "code",
   "execution_count": 38,
   "metadata": {},
   "outputs": [
    {
     "data": {
      "text/html": [
       "<div>\n",
       "<style scoped>\n",
       "    .dataframe tbody tr th:only-of-type {\n",
       "        vertical-align: middle;\n",
       "    }\n",
       "\n",
       "    .dataframe tbody tr th {\n",
       "        vertical-align: top;\n",
       "    }\n",
       "\n",
       "    .dataframe thead th {\n",
       "        text-align: right;\n",
       "    }\n",
       "</style>\n",
       "<table border=\"1\" class=\"dataframe\">\n",
       "  <thead>\n",
       "    <tr style=\"text-align: right;\">\n",
       "      <th></th>\n",
       "      <th>PRICE</th>\n",
       "      <th>SQFT</th>\n",
       "      <th>FEATS</th>\n",
       "      <th>NE</th>\n",
       "      <th>CUST</th>\n",
       "      <th>COR</th>\n",
       "      <th>TAX</th>\n",
       "    </tr>\n",
       "  </thead>\n",
       "  <tbody>\n",
       "    <tr>\n",
       "      <th>0</th>\n",
       "      <td>2.606243</td>\n",
       "      <td>1.910228</td>\n",
       "      <td>2.479577</td>\n",
       "      <td>0.707107</td>\n",
       "      <td>1.825742</td>\n",
       "      <td>-0.481227</td>\n",
       "      <td>2.882411</td>\n",
       "    </tr>\n",
       "    <tr>\n",
       "      <th>1</th>\n",
       "      <td>2.685439</td>\n",
       "      <td>1.814347</td>\n",
       "      <td>0.335903</td>\n",
       "      <td>0.707107</td>\n",
       "      <td>1.825742</td>\n",
       "      <td>-0.481227</td>\n",
       "      <td>1.004017</td>\n",
       "    </tr>\n",
       "    <tr>\n",
       "      <th>2</th>\n",
       "      <td>2.870229</td>\n",
       "      <td>1.937074</td>\n",
       "      <td>1.050461</td>\n",
       "      <td>0.707107</td>\n",
       "      <td>1.825742</td>\n",
       "      <td>-0.481227</td>\n",
       "      <td>1.361969</td>\n",
       "    </tr>\n",
       "    <tr>\n",
       "      <th>3</th>\n",
       "      <td>2.870229</td>\n",
       "      <td>2.429903</td>\n",
       "      <td>1.765019</td>\n",
       "      <td>0.707107</td>\n",
       "      <td>1.825742</td>\n",
       "      <td>-0.481227</td>\n",
       "      <td>2.868775</td>\n",
       "    </tr>\n",
       "    <tr>\n",
       "      <th>4</th>\n",
       "      <td>2.471610</td>\n",
       "      <td>1.775994</td>\n",
       "      <td>0.335903</td>\n",
       "      <td>0.707107</td>\n",
       "      <td>1.825742</td>\n",
       "      <td>-0.481227</td>\n",
       "      <td>3.199454</td>\n",
       "    </tr>\n",
       "  </tbody>\n",
       "</table>\n",
       "</div>"
      ],
      "text/plain": [
       "      PRICE      SQFT     FEATS        NE      CUST       COR       TAX\n",
       "0  2.606243  1.910228  2.479577  0.707107  1.825742 -0.481227  2.882411\n",
       "1  2.685439  1.814347  0.335903  0.707107  1.825742 -0.481227  1.004017\n",
       "2  2.870229  1.937074  1.050461  0.707107  1.825742 -0.481227  1.361969\n",
       "3  2.870229  2.429903  1.765019  0.707107  1.825742 -0.481227  2.868775\n",
       "4  2.471610  1.775994  0.335903  0.707107  1.825742 -0.481227  3.199454"
      ]
     },
     "execution_count": 38,
     "metadata": {},
     "output_type": "execute_result"
    }
   ],
   "source": [
    "# Стандартизируем данные\n",
    "from sklearn import preprocessing\n",
    "# Выбираем один из вариантов нормализации\n",
    "norm = preprocessing.StandardScaler()\n",
    "# Вычисляем параметры нормализации\n",
    "norm.fit(df_albuq)\n",
    "# Преобразуем данные с вычисленными параметрами к выбранному стандартному виду\n",
    "albuq_norm = norm.transform(df_albuq)\n",
    "# Формируем объект DataFrame, содержащий стандартизированные данные\n",
    "albuq_norm = pd.DataFrame(albuq_norm, index=df_albuq.index, columns=df_albuq.columns)\n",
    "albuq_norm.head()"
   ]
  },
  {
   "cell_type": "code",
   "execution_count": 39,
   "metadata": {},
   "outputs": [
    {
     "name": "stdout",
     "output_type": "stream",
     "text": [
      "                            OLS Regression Results                            \n",
      "==============================================================================\n",
      "Dep. Variable:                  PRICE   R-squared:                       0.727\n",
      "Model:                            OLS   Adj. R-squared:                  0.722\n",
      "Method:                 Least Squares   F-statistic:                     151.5\n",
      "Date:                Mon, 20 Nov 2023   Prob (F-statistic):           7.92e-33\n",
      "Time:                        14:26:38   Log-Likelihood:                -90.154\n",
      "No. Observations:                 117   AIC:                             186.3\n",
      "Df Residuals:                     114   BIC:                             194.6\n",
      "Df Model:                           2                                         \n",
      "Covariance Type:            nonrobust                                         \n",
      "==============================================================================\n",
      "                 coef    std err          t      P>|t|      [0.025      0.975]\n",
      "------------------------------------------------------------------------------\n",
      "Intercept   1.475e-17      0.049   3.01e-16      1.000      -0.097       0.097\n",
      "SQFT           0.8494      0.049     17.330      0.000       0.752       0.946\n",
      "COR           -0.1137      0.049     -2.320      0.022      -0.211      -0.017\n",
      "==============================================================================\n",
      "Omnibus:                       24.362   Durbin-Watson:                   1.601\n",
      "Prob(Omnibus):                  0.000   Jarque-Bera (JB):              133.434\n",
      "Skew:                          -0.393   Prob(JB):                     1.06e-29\n",
      "Kurtosis:                       8.172   Cond. No.                         1.04\n",
      "==============================================================================\n",
      "\n",
      "Notes:\n",
      "[1] Standard Errors assume that the covariance matrix of the errors is correctly specified.\n"
     ]
    }
   ],
   "source": [
    "model_linear_ols = smf.ols(formula='PRICE~SQFT+COR', data=albuq_norm)\n",
    "norm_result_SQFT_COR = model_linear_ols.fit()\n",
    "print(norm_result_SQFT_COR.summary(alpha=0.05))"
   ]
  },
  {
   "cell_type": "code",
   "execution_count": 40,
   "metadata": {},
   "outputs": [
    {
     "name": "stdout",
     "output_type": "stream",
     "text": [
      "                                 OLS Regression Results                                \n",
      "=======================================================================================\n",
      "Dep. Variable:                  PRICE   R-squared (uncentered):                   0.727\n",
      "Model:                            OLS   Adj. R-squared (uncentered):              0.722\n",
      "Method:                 Least Squares   F-statistic:                              152.8\n",
      "Date:                Mon, 20 Nov 2023   Prob (F-statistic):                    4.14e-33\n",
      "Time:                        14:33:13   Log-Likelihood:                         -90.154\n",
      "No. Observations:                 117   AIC:                                      184.3\n",
      "Df Residuals:                     115   BIC:                                      189.8\n",
      "Df Model:                           2                                                  \n",
      "Covariance Type:            nonrobust                                                  \n",
      "==============================================================================\n",
      "                 coef    std err          t      P>|t|      [0.025      0.975]\n",
      "------------------------------------------------------------------------------\n",
      "SQFT           0.8494      0.049     17.406      0.000       0.753       0.946\n",
      "COR           -0.1137      0.049     -2.330      0.022      -0.210      -0.017\n",
      "==============================================================================\n",
      "Omnibus:                       24.362   Durbin-Watson:                   1.601\n",
      "Prob(Omnibus):                  0.000   Jarque-Bera (JB):              133.434\n",
      "Skew:                          -0.393   Prob(JB):                     1.06e-29\n",
      "Kurtosis:                       8.172   Cond. No.                         1.04\n",
      "==============================================================================\n",
      "\n",
      "Notes:\n",
      "[1] R² is computed without centering (uncentered) since the model does not contain a constant.\n",
      "[2] Standard Errors assume that the covariance matrix of the errors is correctly specified.\n"
     ]
    }
   ],
   "source": [
    "import statsmodels.api as sm\n",
    "\n",
    "X = albuq_norm[['SQFT', 'COR']]\n",
    "response = albuq_norm['PRICE']\n",
    "\n",
    "model = sm.OLS(response, X)\n",
    "results = model.fit()\n",
    "print(results.summary())"
   ]
  },
  {
   "cell_type": "code",
   "execution_count": 41,
   "metadata": {},
   "outputs": [
    {
     "name": "stdout",
     "output_type": "stream",
     "text": [
      "                                 OLS Regression Results                                \n",
      "=======================================================================================\n",
      "Dep. Variable:                  PRICE   R-squared (uncentered):                   0.732\n",
      "Model:                            OLS   Adj. R-squared (uncentered):              0.727\n",
      "Method:                 Least Squares   F-statistic:                              157.1\n",
      "Date:                Mon, 20 Nov 2023   Prob (F-statistic):                    1.28e-33\n",
      "Time:                        14:33:59   Log-Likelihood:                         -88.964\n",
      "No. Observations:                 117   AIC:                                      181.9\n",
      "Df Residuals:                     115   BIC:                                      187.5\n",
      "Df Model:                           2                                                  \n",
      "Covariance Type:            nonrobust                                                  \n",
      "==============================================================================\n",
      "                 coef    std err          t      P>|t|      [0.025      0.975]\n",
      "------------------------------------------------------------------------------\n",
      "SQFT           0.7622      0.057     13.487      0.000       0.650       0.874\n",
      "CUST           0.1589      0.057      2.812      0.006       0.047       0.271\n",
      "==============================================================================\n",
      "Omnibus:                       37.865   Durbin-Watson:                   1.468\n",
      "Prob(Omnibus):                  0.000   Jarque-Bera (JB):              216.674\n",
      "Skew:                          -0.873   Prob(JB):                     8.91e-48\n",
      "Kurtosis:                       9.434   Cond. No.                         1.78\n",
      "==============================================================================\n",
      "\n",
      "Notes:\n",
      "[1] R² is computed without centering (uncentered) since the model does not contain a constant.\n",
      "[2] Standard Errors assume that the covariance matrix of the errors is correctly specified.\n"
     ]
    }
   ],
   "source": [
    "X = albuq_norm[['SQFT', 'CUST']]\n",
    "response = albuq_norm['PRICE']\n",
    "\n",
    "model = sm.OLS(response, X)\n",
    "results = model.fit()\n",
    "print(results.summary())"
   ]
  },
  {
   "cell_type": "code",
   "execution_count": 42,
   "metadata": {},
   "outputs": [
    {
     "name": "stdout",
     "output_type": "stream",
     "text": [
      "                            OLS Regression Results                            \n",
      "==============================================================================\n",
      "Dep. Variable:                  PRICE   R-squared:                       0.732\n",
      "Model:                            OLS   Adj. R-squared:                  0.727\n",
      "Method:                 Least Squares   F-statistic:                     155.8\n",
      "Date:                Mon, 20 Nov 2023   Prob (F-statistic):           2.48e-33\n",
      "Time:                        14:37:47   Log-Likelihood:                -783.60\n",
      "No. Observations:                 117   AIC:                             1573.\n",
      "Df Residuals:                     114   BIC:                             1581.\n",
      "Df Model:                           2                                         \n",
      "Covariance Type:            nonrobust                                         \n",
      "==============================================================================\n",
      "                 coef    std err          t      P>|t|      [0.025      0.975]\n",
      "------------------------------------------------------------------------------\n",
      "Intercept    114.1348     65.499      1.743      0.084     -15.619     243.888\n",
      "SQFT           0.5536      0.041     13.428      0.000       0.472       0.635\n",
      "CUST         142.8599     51.030      2.800      0.006      41.770     243.950\n",
      "==============================================================================\n",
      "Omnibus:                       37.865   Durbin-Watson:                   1.468\n",
      "Prob(Omnibus):                  0.000   Jarque-Bera (JB):              216.674\n",
      "Skew:                          -0.873   Prob(JB):                     8.91e-48\n",
      "Kurtosis:                       9.434   Cond. No.                     6.62e+03\n",
      "==============================================================================\n",
      "\n",
      "Notes:\n",
      "[1] Standard Errors assume that the covariance matrix of the errors is correctly specified.\n",
      "[2] The condition number is large, 6.62e+03. This might indicate that there are\n",
      "strong multicollinearity or other numerical problems.\n"
     ]
    }
   ],
   "source": [
    "model_linear_ols = smf.ols(formula='PRICE~SQFT+CUST', data=df_albuq)\n",
    "result_SQFT_COR = model_linear_ols.fit()\n",
    "print(result_SQFT_COR.summary(alpha=0.05))"
   ]
  },
  {
   "cell_type": "code",
   "execution_count": null,
   "metadata": {},
   "outputs": [],
   "source": []
  }
 ],
 "metadata": {
  "kernelspec": {
   "display_name": "Python 3 (ipykernel)",
   "language": "python",
   "name": "python3"
  },
  "language_info": {
   "codemirror_mode": {
    "name": "ipython",
    "version": 3
   },
   "file_extension": ".py",
   "mimetype": "text/x-python",
   "name": "python",
   "nbconvert_exporter": "python",
   "pygments_lexer": "ipython3",
   "version": "3.9.13"
  }
 },
 "nbformat": 4,
 "nbformat_minor": 2
}
