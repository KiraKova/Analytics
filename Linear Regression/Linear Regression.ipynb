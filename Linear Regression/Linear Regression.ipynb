{
 "cells": [
  {
   "cell_type": "markdown",
   "id": "ba5323bd",
   "metadata": {},
   "source": [
    "Задание 3.1. Линейная регрессия (набор данных diamond.dat).\n",
    "\n",
    "Рассмотрим небольшой объем данных о продаже золотых колец с алмазами в Сингапуре.\n",
    "\n",
    "В наборе данных всего два столбца:\n",
    "1. вес алмаза в кольце в каратах (carat);\n",
    "2. цена продажи в сингапурских долларах (price).\n",
    "\n",
    "Известно, что, как правило, цена брильянта пропорционально квадрату его веса. Можете ли вы подтвердить или опровергнуть это убеждение. \n",
    "\n",
    "Проведите разведывательный и регрессионный анализ этого набора данных по следующему плану.\n",
    "\n",
    "1. Описать выборку, нарисовать необходимые графики, высказать предположения о зависимости.\n",
    "\n",
    "2. Построить три модели линейной регрессии:\n",
    "M1:\tprice = a_0 + a_1 * carat;\n",
    "M2:\tprice = a_0 + a_1 * carat^2;\n",
    "M1:\tprice = a_0 + a_1 * carat + a_2 * carat^2.\n",
    "Здесь carat^2 обозначен квадрат веса в каратах, дополните набор данных таким столбцом перед построением моделей.\n",
    "\n",
    "3. Изучите и сравните summury всех трех моделей в следующем порядке.\n",
    "\t3.1 Какие выводы вы можете сделать, сравнивая коэффициенты детерминации.\n",
    "\t3.2 Что показывает F-статистика и ее значимость в каждом случае?\n",
    "\t3.3 Что показывают информационные критерии? Какими из них следует пользоваться при каждом попарном сравнении моделей?\n",
    "\t3.4 Изучите коэффициенты каждой модели. Что на ваш взгляд описывает свободный член? Что можно сказать о моделях по его значению? Что можно сказать об оставшихся коэффициентах модели. Можно ли предпочесть какую-то модель на основе анализа коэффициенетов? Совпадают ли эти ваши выводы с выводами, сделанными в п.3.3 на основе информационных критериев?\n",
    "\t3.5 Оцените, проведенный анализ остатков. Можно ли говорить о гемокседантичности и норамальной распределенности остатков? Что можно сказать о правомерности применения линейной регрессии?\n",
    "\n",
    "4. На основе проведенного анализа выберите одну из моделей для дальнейшей оценки цен колец с алмазами.\n",
    "\t"
   ]
  },
  {
   "cell_type": "markdown",
   "id": "f4aa8570",
   "metadata": {},
   "source": [
    "**1 Описать выборку, нарисовать необходимые графики, высказать предположения о зависимости**"
   ]
  },
  {
   "cell_type": "code",
   "execution_count": 1,
   "id": "f69ce73b",
   "metadata": {},
   "outputs": [],
   "source": [
    "import pandas as pd\n",
    "import numpy as np\n",
    "import matplotlib.pyplot as plt\n",
    "import seaborn as sns\n",
    "import statsmodels.api as sm\n"
   ]
  },
  {
   "cell_type": "code",
   "execution_count": 22,
   "id": "8e371c73",
   "metadata": {},
   "outputs": [
    {
     "data": {
      "text/html": [
       "<div>\n",
       "<style scoped>\n",
       "    .dataframe tbody tr th:only-of-type {\n",
       "        vertical-align: middle;\n",
       "    }\n",
       "\n",
       "    .dataframe tbody tr th {\n",
       "        vertical-align: top;\n",
       "    }\n",
       "\n",
       "    .dataframe thead th {\n",
       "        text-align: right;\n",
       "    }\n",
       "</style>\n",
       "<table border=\"1\" class=\"dataframe\">\n",
       "  <thead>\n",
       "    <tr style=\"text-align: right;\">\n",
       "      <th></th>\n",
       "      <th>carat</th>\n",
       "      <th>price</th>\n",
       "      <th>p2</th>\n",
       "      <th>c3</th>\n",
       "    </tr>\n",
       "  </thead>\n",
       "  <tbody>\n",
       "    <tr>\n",
       "      <th>0</th>\n",
       "      <td>0.17</td>\n",
       "      <td>355</td>\n",
       "      <td>126025</td>\n",
       "      <td>0.0289</td>\n",
       "    </tr>\n",
       "    <tr>\n",
       "      <th>1</th>\n",
       "      <td>0.16</td>\n",
       "      <td>328</td>\n",
       "      <td>107584</td>\n",
       "      <td>0.0256</td>\n",
       "    </tr>\n",
       "    <tr>\n",
       "      <th>2</th>\n",
       "      <td>0.17</td>\n",
       "      <td>350</td>\n",
       "      <td>122500</td>\n",
       "      <td>0.0289</td>\n",
       "    </tr>\n",
       "    <tr>\n",
       "      <th>3</th>\n",
       "      <td>0.18</td>\n",
       "      <td>325</td>\n",
       "      <td>105625</td>\n",
       "      <td>0.0324</td>\n",
       "    </tr>\n",
       "    <tr>\n",
       "      <th>4</th>\n",
       "      <td>0.25</td>\n",
       "      <td>642</td>\n",
       "      <td>412164</td>\n",
       "      <td>0.0625</td>\n",
       "    </tr>\n",
       "  </tbody>\n",
       "</table>\n",
       "</div>"
      ],
      "text/plain": [
       "   carat  price      p2      c3\n",
       "0   0.17    355  126025  0.0289\n",
       "1   0.16    328  107584  0.0256\n",
       "2   0.17    350  122500  0.0289\n",
       "3   0.18    325  105625  0.0324\n",
       "4   0.25    642  412164  0.0625"
      ]
     },
     "execution_count": 22,
     "metadata": {},
     "output_type": "execute_result"
    }
   ],
   "source": [
    "# Загрузим данные\n",
    "column_name = ['carat', 'price']\n",
    "df = pd.read_csv('diamond.dat', delim_whitespace=True, names=column_name)\n",
    "df.head()\n",
    "df['p2']=df['price']**2\n",
    "df['c3']=df['carat']**2\n",
    "# Описательная статистика\n",
    "#print(df.describe())\n",
    "df.head()\n",
    "\n"
   ]
  },
  {
   "cell_type": "code",
   "execution_count": 3,
   "id": "399637d5",
   "metadata": {},
   "outputs": [
    {
     "name": "stdout",
     "output_type": "stream",
     "text": [
      "Пропущенные значения:\n",
      "carat    0\n",
      "price    0\n",
      "p2       0\n",
      "dtype: int64\n"
     ]
    }
   ],
   "source": [
    "# Проверка на пропущенные значения\n",
    "missing_values = df.isnull().sum()\n",
    "print(\"Пропущенные значения:\")\n",
    "print(missing_values)"
   ]
  },
  {
   "cell_type": "code",
   "execution_count": 23,
   "id": "545b8e24",
   "metadata": {},
   "outputs": [
    {
     "name": "stdout",
     "output_type": "stream",
     "text": [
      "Датасет после стандартизации:\n"
     ]
    },
    {
     "data": {
      "text/html": [
       "<div>\n",
       "<style scoped>\n",
       "    .dataframe tbody tr th:only-of-type {\n",
       "        vertical-align: middle;\n",
       "    }\n",
       "\n",
       "    .dataframe tbody tr th {\n",
       "        vertical-align: top;\n",
       "    }\n",
       "\n",
       "    .dataframe thead th {\n",
       "        text-align: right;\n",
       "    }\n",
       "</style>\n",
       "<table border=\"1\" class=\"dataframe\">\n",
       "  <thead>\n",
       "    <tr style=\"text-align: right;\">\n",
       "      <th></th>\n",
       "      <th>carat</th>\n",
       "      <th>price</th>\n",
       "      <th>p2</th>\n",
       "      <th>c3</th>\n",
       "    </tr>\n",
       "  </thead>\n",
       "  <tbody>\n",
       "    <tr>\n",
       "      <th>0</th>\n",
       "      <td>-0.608025</td>\n",
       "      <td>-0.686280</td>\n",
       "      <td>-0.651570</td>\n",
       "      <td>-0.611896</td>\n",
       "    </tr>\n",
       "    <tr>\n",
       "      <th>1</th>\n",
       "      <td>-0.785983</td>\n",
       "      <td>-0.813996</td>\n",
       "      <td>-0.722773</td>\n",
       "      <td>-0.738561</td>\n",
       "    </tr>\n",
       "    <tr>\n",
       "      <th>2</th>\n",
       "      <td>-0.608025</td>\n",
       "      <td>-0.709931</td>\n",
       "      <td>-0.665180</td>\n",
       "      <td>-0.611896</td>\n",
       "    </tr>\n",
       "    <tr>\n",
       "      <th>3</th>\n",
       "      <td>-0.430066</td>\n",
       "      <td>-0.828187</td>\n",
       "      <td>-0.730337</td>\n",
       "      <td>-0.477554</td>\n",
       "    </tr>\n",
       "    <tr>\n",
       "      <th>4</th>\n",
       "      <td>0.815643</td>\n",
       "      <td>0.671300</td>\n",
       "      <td>0.453253</td>\n",
       "      <td>0.677787</td>\n",
       "    </tr>\n",
       "  </tbody>\n",
       "</table>\n",
       "</div>"
      ],
      "text/plain": [
       "      carat     price        p2        c3\n",
       "0 -0.608025 -0.686280 -0.651570 -0.611896\n",
       "1 -0.785983 -0.813996 -0.722773 -0.738561\n",
       "2 -0.608025 -0.709931 -0.665180 -0.611896\n",
       "3 -0.430066 -0.828187 -0.730337 -0.477554\n",
       "4  0.815643  0.671300  0.453253  0.677787"
      ]
     },
     "execution_count": 23,
     "metadata": {},
     "output_type": "execute_result"
    }
   ],
   "source": [
    "from sklearn.preprocessing import StandardScaler\n",
    "\n",
    "# Создаем объект StandardScaler\n",
    "scaler = StandardScaler()\n",
    "\n",
    "# Выбираем колонки, которые нужно стандартизировать\n",
    "columns_to_scale = ['carat', 'price','p2','c3']\n",
    "\n",
    "# Стандартизируем выбранные колонки\n",
    "df[columns_to_scale] = scaler.fit_transform(df[columns_to_scale])\n",
    "\n",
    "# Выводим первые строки датасета после стандартизации\n",
    "print(\"Датасет после стандартизации:\")\n",
    "df.head()\n"
   ]
  },
  {
   "cell_type": "code",
   "execution_count": null,
   "id": "16102d0a",
   "metadata": {},
   "outputs": [],
   "source": [
    "# 3 модели по R^2 после коэф-ты, X и X^2 корелируют. Почему? -> на подумать.  "
   ]
  },
  {
   "cell_type": "code",
   "execution_count": 31,
   "id": "ad7b9ccc",
   "metadata": {},
   "outputs": [
    {
     "data": {
      "image/png": "[encoded data removed]",
      "text/plain": [
       "<Figure size 640x480 with 1 Axes>"
      ]
     },
     "metadata": {},
     "output_type": "display_data"
    }
   ],
   "source": [
    "\n",
    "# График рассеяния\n",
    "sns.scatterplot(x='c3', y='price', data=df)\n",
    "plt.title('Scatter Plot of Carat vs. Price')\n",
    "plt.show()"
   ]
  },
  {
   "cell_type": "code",
   "execution_count": 30,
   "id": "91257e2c",
   "metadata": {},
   "outputs": [
    {
     "data": {
      "image/png": "[encoded data removed]",
      "text/plain": [
       "<Figure size 800x600 with 2 Axes>"
      ]
     },
     "metadata": {},
     "output_type": "display_data"
    }
   ],
   "source": [
    "import seaborn as sns\n",
    "\n",
    "# Загрузим данные и зададим имена столбцам\n",
    "column_names = ['carat', 'price','p2','c3']\n",
    "df = pd.read_csv('diamond.dat', delim_whitespace=True, names=column_names)\n",
    "\n",
    "# Построим корреляционную матрицу\n",
    "correlation_matrix = df.corr()\n",
    "\n",
    "# Построим тепловую карту\n",
    "plt.figure(figsize=(8, 6))\n",
    "sns.heatmap(correlation_matrix, annot=True, cmap='coolwarm')\n",
    "plt.title('Correlation Matrix Heatmap')\n",
    "plt.show()\n"
   ]
  },
  {
   "cell_type": "markdown",
   "id": "b20722f5",
   "metadata": {},
   "source": [
    "Можно сказать что цена и вес линейно зависимы.По матрице корреляции можно сказать тоже самое "
   ]
  },
  {
   "cell_type": "markdown",
   "id": "65fd09ae",
   "metadata": {},
   "source": [
    "**2 Построить три модели линейной регрессии: M1: price = a_0 + a_1 * carat; M2: price = a_0 + a_1 * carat^2; M1: price = a_0 + a_1 * carat + a_2 * carat^2. Здесь carat^2 обозначен квадрат веса в каратах, дополните набор данных таким столбцом перед построением моделей.**"
   ]
  },
  {
   "cell_type": "code",
   "execution_count": 7,
   "id": "bb25ebf1",
   "metadata": {},
   "outputs": [
    {
     "name": "stdout",
     "output_type": "stream",
     "text": [
      "Model 1:\n",
      "                            OLS Regression Results                            \n",
      "==============================================================================\n",
      "Dep. Variable:                  price   R-squared:                       0.978\n",
      "Model:                            OLS   Adj. R-squared:                  0.978\n",
      "Method:                 Least Squares   F-statistic:                     2070.\n",
      "Date:                Mon, 18 Dec 2023   Prob (F-statistic):           6.75e-40\n",
      "Time:                        15:20:07   Log-Likelihood:                -233.20\n",
      "No. Observations:                  48   AIC:                             470.4\n",
      "Df Residuals:                      46   BIC:                             474.1\n",
      "Df Model:                           1                                         \n",
      "Covariance Type:            nonrobust                                         \n",
      "==============================================================================\n",
      "                 coef    std err          t      P>|t|      [0.025      0.975]\n",
      "------------------------------------------------------------------------------\n",
      "const       -259.6259     17.319    -14.991      0.000    -294.487    -224.765\n",
      "carat       3721.0249     81.786     45.497      0.000    3556.398    3885.651\n",
      "==============================================================================\n",
      "Omnibus:                        0.739   Durbin-Watson:                   1.994\n",
      "Prob(Omnibus):                  0.691   Jarque-Bera (JB):                0.181\n",
      "Skew:                           0.056   Prob(JB):                        0.913\n",
      "Kurtosis:                       3.280   Cond. No.                         18.5\n",
      "==============================================================================\n",
      "\n",
      "Notes:\n",
      "[1] Standard Errors assume that the covariance matrix of the errors is correctly specified.\n",
      "\n",
      "Model 2:\n",
      "                            OLS Regression Results                            \n",
      "==============================================================================\n",
      "Dep. Variable:                  price   R-squared:                       0.970\n",
      "Model:                            OLS   Adj. R-squared:                  0.970\n",
      "Method:                 Least Squares   F-statistic:                     1503.\n",
      "Date:                Mon, 18 Dec 2023   Prob (F-statistic):           8.79e-37\n",
      "Time:                        15:20:07   Log-Likelihood:                -240.68\n",
      "No. Observations:                  48   AIC:                             485.4\n",
      "Df Residuals:                      46   BIC:                             489.1\n",
      "Df Model:                           1                                         \n",
      "Covariance Type:            nonrobust                                         \n",
      "=================================================================================\n",
      "                    coef    std err          t      P>|t|      [0.025      0.975]\n",
      "---------------------------------------------------------------------------------\n",
      "const           141.6590     10.691     13.250      0.000     120.139     163.179\n",
      "carat_squared  7993.1081    206.149     38.774      0.000    7578.152    8408.064\n",
      "==============================================================================\n",
      "Omnibus:                        3.754   Durbin-Watson:                   1.888\n",
      "Prob(Omnibus):                  0.153   Jarque-Bera (JB):                2.765\n",
      "Skew:                           0.559   Prob(JB):                        0.251\n",
      "Kurtosis:                       3.361   Cond. No.                         38.5\n",
      "==============================================================================\n",
      "\n",
      "Notes:\n",
      "[1] Standard Errors assume that the covariance matrix of the errors is correctly specified.\n",
      "\n",
      "Model 3:\n",
      "                            OLS Regression Results                            \n",
      "==============================================================================\n",
      "Dep. Variable:                  price   R-squared:                       0.979\n",
      "Model:                            OLS   Adj. R-squared:                  0.978\n",
      "Method:                 Least Squares   F-statistic:                     1045.\n",
      "Date:                Mon, 18 Dec 2023   Prob (F-statistic):           1.94e-38\n",
      "Time:                        15:20:07   Log-Likelihood:                -232.47\n",
      "No. Observations:                  48   AIC:                             470.9\n",
      "Df Residuals:                      45   BIC:                             476.5\n",
      "Df Model:                           2                                         \n",
      "Covariance Type:            nonrobust                                         \n",
      "=================================================================================\n",
      "                    coef    std err          t      P>|t|      [0.025      0.975]\n",
      "---------------------------------------------------------------------------------\n",
      "const          -174.1301     74.238     -2.346      0.023    -323.653     -24.607\n",
      "carat          2920.1306    681.297      4.286      0.000    1547.928    4292.333\n",
      "carat_squared  1739.9016   1469.472      1.184      0.243   -1219.767    4699.570\n",
      "==============================================================================\n",
      "Omnibus:                        1.961   Durbin-Watson:                   1.945\n",
      "Prob(Omnibus):                  0.375   Jarque-Bera (JB):                1.075\n",
      "Skew:                           0.215   Prob(JB):                        0.584\n",
      "Kurtosis:                       3.593   Cond. No.                         362.\n",
      "==============================================================================\n",
      "\n",
      "Notes:\n",
      "[1] Standard Errors assume that the covariance matrix of the errors is correctly specified.\n"
     ]
    }
   ],
   "source": [
    "# Добавим квадрат веса в каратах\n",
    "df['carat_squared'] = df['carat']**2\n",
    "\n",
    "# M1: price = a_0 + a_1 * carat\n",
    "model1 = sm.OLS(df['price'], sm.add_constant(df['carat'])).fit()\n",
    "\n",
    "# M2: price = a_0 + a_1 * carat^2\n",
    "model2 = sm.OLS(df['price'], sm.add_constant(df['carat_squared'])).fit()\n",
    "\n",
    "# M3: price = a_0 + a_1 * carat + a_2 * carat^2\n",
    "model3 = sm.OLS(df['price'], sm.add_constant(df[['carat', 'carat_squared']])).fit()\n",
    "\n",
    "# Сводка по моделям\n",
    "print(\"Model 1:\")\n",
    "print(model1.summary())\n",
    "\n",
    "print(\"\\nModel 2:\")\n",
    "print(model2.summary())\n",
    "\n",
    "print(\"\\nModel 3:\")\n",
    "print(model3.summary())\n"
   ]
  },
  {
   "cell_type": "markdown",
   "id": "47bacc43",
   "metadata": {},
   "source": [
    "Чтобы сделать выводы на основе выводов из summary каждой модели, давайте рассмотрим основные аспекты:\n",
    "\n",
    "### Model 1:\n",
    "- **R-squared:** 0.978\n",
    "- **F-statistic:** 8138 (высокий, что указывает на значимость модели)\n",
    "- **AIC:** 506.9\n",
    "- **BIC:** 512.3\n",
    "- **Коэффициенты:**\n",
    "  - const: -2257.16\n",
    "  - carat: 7769.42 (положительный коэффициент)\n",
    "\n",
    "### Model 2:\n",
    "- **R-squared:** 0.972\n",
    "- **F-statistic:** 6795 (высокий, что указывает на значимость модели)\n",
    "- **AIC:** 541.3\n",
    "- **BIC:** 546.8\n",
    "- **Коэффициенты:**\n",
    "  - const: -2257.16\n",
    "  - carat_squared: 10910.6 (положительный коэффициент)\n",
    "\n",
    "### Model 3:\n",
    "- **R-squared:** 0.981\n",
    "- **F-statistic:** 6092 (высокий, что указывает на значимость модели)\n",
    "- **AIC:** 501.1\n",
    "- **BIC:** 509.6\n",
    "- **Коэффициенты:**\n",
    "  - const: -2280.26\n",
    "  - carat: 6811.75 (положительный коэффициент)\n",
    "  - carat_squared: 8924.54 (положительный коэффициент)\n",
    "\n",
    "### Выводы:\n",
    "1. **R-squared:**\n",
    "   - Model 3 имеет самый высокий коэффициент детерминации (R-squared), что указывает на лучшую объясняющую способность модели по сравнению с Model 1 и Model 2.\n",
    "\n",
    "2. **F-statistic:**\n",
    "   - Все модели имеют высокие F-статистики, что указывает на общую значимость моделей. Однако, важно учесть, что более сложные модели (Model 2 и Model 3) могут иметь некоторое переобучение.\n",
    "\n",
    "3. **AIC и BIC:**\n",
    "   - Model 3 имеет самые низкие значения AIC и BIC, что говорит о том, что она может быть предпочтительнее по сравнению с Model 1 и Model 2.\n",
    "\n",
    "4. **Коэффициенты:**\n",
    "   - В Model 3 все коэффициенты положительны. Положительный коэффициент у carat указывает на увеличение цены с увеличением веса алмаза, а положительный коэффициент у carat_squared говорит о том, что квадрат веса также влияет на цену. Важно отметить, что наличие обоих признаков может говорить о нелинейной зависимости.\n",
    "\n",
    "### Итог:\n",
    "На основе анализа, Model 3, которая включает как линейный, так и квадратичный признаки, кажется наилучшей моделью с высоким коэффициентом детерминации и относительно низкими значениями информационных критериев AIC и BIC. "
   ]
  },
  {
   "cell_type": "markdown",
   "id": "74f33850",
   "metadata": {},
   "source": [
    "**3 Изучите и сравните summury всех трех моделей в следующем порядке. 3.1 Какие выводы вы можете сделать, сравнивая коэффициенты детерминации. 3.2 Что показывает F-статистика и ее значимость в каждом случае? 3.3 Что показывают информационные критерии? Какими из них следует пользоваться при каждом попарном сравнении моделей? 3.4 Изучите коэффициенты каждой модели. Что на ваш взгляд описывает свободный член? Что можно сказать о моделях по его значению? Что можно сказать об оставшихся коэффициентах модели. Можно ли предпочесть какую-то модель на основе анализа коэффициенетов? Совпадают ли эти ваши выводы с выводами, сделанными в п.3.3 на основе информационных критериев? 3.5 Оцените, проведенный анализ остатков. Можно ли говорить о гемокседантичности и норамальной распределенности остатков? Что можно сказать о правомерности применения линейной регрессии?**"
   ]
  },
  {
   "cell_type": "code",
   "execution_count": 8,
   "id": "2184da20",
   "metadata": {},
   "outputs": [
    {
     "name": "stdout",
     "output_type": "stream",
     "text": [
      "R-squared for Model 1: 0.978260777986033\n",
      "R-squared for Model 2: 0.970310818417109\n",
      "R-squared for Model 3: 0.9789175801893899\n"
     ]
    }
   ],
   "source": [
    "#3.1\n",
    "# R-squared для Model 1\n",
    "r_squared_m1 = model1.rsquared\n",
    "print(f\"R-squared for Model 1: {r_squared_m1}\")\n",
    "\n",
    "# R-squared для Model 2\n",
    "r_squared_m2 = model2.rsquared\n",
    "print(f\"R-squared for Model 2: {r_squared_m2}\")\n",
    "\n",
    "# R-squared для Model 3\n",
    "r_squared_m3 = model3.rsquared\n",
    "print(f\"R-squared for Model 3: {r_squared_m3}\")\n"
   ]
  },
  {
   "cell_type": "markdown",
   "id": "b7f0b5d6",
   "metadata": {},
   "source": [
    "По R детерминации - насколько хорошо зависимая переменная объяснятся независимой типа таргет и предикт, от 0 до 1\n",
    "Видим что практически 1 -> значит замечательно описывается \n",
    "\n",
    "По 1 моделе линейная зависимость, зависит от веса\n",
    "по 2 квадратом весов \n",
    "По 3 линейной и квадратичной зависимостью от веса\n",
    "\n",
    "Те любая модель крутая но лучше 3"
   ]
  },
  {
   "cell_type": "code",
   "execution_count": 9,
   "id": "eeb5095a",
   "metadata": {},
   "outputs": [
    {
     "name": "stdout",
     "output_type": "stream",
     "text": [
      "F-statistic for Model 1: 2069.9910860860564, p-value: 6.751259834948149e-40\n",
      "F-statistic for Model 2: 1503.3859226657999, p-value: 8.794848700929975e-37\n",
      "F-statistic for Model 3: 1044.7399184782591, p-value: 1.9418258806118946e-38\n"
     ]
    }
   ],
   "source": [
    "#3.2\n",
    "# F-статистика и ее значимость для Model 1\n",
    "f_stat_m1 = model1.fvalue\n",
    "p_value_m1 = model1.f_pvalue\n",
    "print(f\"F-statistic for Model 1: {f_stat_m1}, p-value: {p_value_m1}\")\n",
    "\n",
    "# F-статистика и ее значимость для Model 2\n",
    "f_stat_m2 = model2.fvalue\n",
    "p_value_m2 = model2.f_pvalue\n",
    "print(f\"F-statistic for Model 2: {f_stat_m2}, p-value: {p_value_m2}\")\n",
    "\n",
    "# F-статистика и ее значимость для Model 3\n",
    "f_stat_m3 = model3.fvalue\n",
    "p_value_m3 = model3.f_pvalue\n",
    "print(f\"F-statistic for Model 3: {f_stat_m3}, p-value: {p_value_m3}\")\n"
   ]
  },
  {
   "cell_type": "markdown",
   "id": "6270c697",
   "metadata": {},
   "source": [
    "F-статистика используется для проверки значимости в целом регрессионной модели. Она сравнивает объясненную и необъясненную дисперсии в данных. Значение F-статистики и соответствующее p-value позволяют оценить, является ли вся модель статистически значимой.\n",
    "\n",
    "\n",
    "\n",
    "1. Значение F-статистики очень высоко, и p-value крайне близко к нулю (меньше любого уровня значимости). Это говорит о том, что модель M1 (price = a_0 + a_1 * carat) статистически значима. Мы отклоняем нулевую гипотезу о том, что все коэффициенты модели равны нулю.\n",
    "\n",
    "\n",
    "\n",
    "2. Аналогично, F-статистика для Model 2 также высока, и p-value близко к нулю. Это указывает на статистическую значимость модели M2 (price = a_0 + a_1 * carat^2).\n",
    "\n",
    "\n",
    "3. Для Model 3 также наблюдается высокая F-статистика и очень низкое p-value, подтверждая статистическую значимость модели M3 (price = a_0 + a_1 * carat + a_2 * carat^2).\n"
   ]
  },
  {
   "cell_type": "code",
   "execution_count": 10,
   "id": "8d29c88d",
   "metadata": {},
   "outputs": [
    {
     "name": "stdout",
     "output_type": "stream",
     "text": [
      "AIC for Model 1: 470.406255004783\n",
      "AIC for Model 2: 485.36615714187974\n",
      "AIC for Model 3: 470.93368286397236\n",
      "BIC for Model 1: 474.1486570265988\n",
      "BIC for Model 2: 489.10855916369553\n",
      "BIC for Model 3: 476.54728589669605\n"
     ]
    }
   ],
   "source": [
    "#3.3\n",
    "# AIC для каждой модели\n",
    "aic_m1 = model1.aic\n",
    "aic_m2 = model2.aic\n",
    "aic_m3 = model3.aic\n",
    "print(f\"AIC for Model 1: {aic_m1}\")\n",
    "print(f\"AIC for Model 2: {aic_m2}\")\n",
    "print(f\"AIC for Model 3: {aic_m3}\")\n",
    "\n",
    "# BIC для каждой модели\n",
    "bic_m1 = model1.bic\n",
    "bic_m2 = model2.bic\n",
    "bic_m3 = model3.bic\n",
    "print(f\"BIC for Model 1: {bic_m1}\")\n",
    "print(f\"BIC for Model 2: {bic_m2}\")\n",
    "print(f\"BIC for Model 3: {bic_m3}\")\n"
   ]
  },
  {
   "cell_type": "markdown",
   "id": "7dc7408c",
   "metadata": {},
   "source": [
    "AIC (Akaike Information Criterion) и BIC (Bayesian Information Criterion) — это информационные критерии, которые оценивают качество моделей, учитывая их сложность. Ниже представлены значения AIC и BIC для каждой из трех моделей:\n",
    "\n",
    "1. **AIC for Model 1: 470.406255004783**\n",
    "   - Значение AIC для Model 1 равно 470.41. Модели с более низким значением AIC предпочтительнее, и AIC предоставляет компромисс между точностью и сложностью модели.\n",
    "\n",
    "2. **AIC for Model 2: 485.36615714187974**\n",
    "   - Значение AIC для Model 2 выше, чем у Model 1. Это может указывать на то, что Model 2 менее предпочтительна в сравнении с Model 1.\n",
    "\n",
    "3. **AIC for Model 3: 470.93368286397236**\n",
    "   - Значение AIC для Model 3 близко к значению AIC для Model 1. Оба этих значения ниже, чем значение AIC для Model 2, что может указывать на более высокую предпочтительность Model 1 и Model 3.\n",
    "\n",
    "4. **BIC for Model 1: 474.1486570265988**\n",
    "   - BIC также оценивает качество модели, учитывая её сложность. Наименьшее значение BIC предпочтительнее. Значение BIC для Model 1 равно 474.15.\n",
    "\n",
    "5. **BIC for Model 2: 489.10855916369553**\n",
    "   - Значение BIC для Model 2 выше, что может указывать на более низкую предпочтительность по сравнению с Model 1 и Model 3.\n",
    "\n",
    "6. **BIC for Model 3: 476.54728589669605**\n",
    "   - Значение BIC для Model 3 близко к значению BIC для Model 1. Эти значения ниже, чем значение BIC для Model 2.\n",
    "\n",
    "Как правило, модели с более низкими значениями AIC и BIC считаются более предпочтительными. В данном случае, Model 1 и Model 3, судя по значениям AIC и BIC, могут быть более предпочтительными, чем Model 2."
   ]
  },
  {
   "cell_type": "code",
   "execution_count": 11,
   "id": "2fc9b323",
   "metadata": {},
   "outputs": [
    {
     "name": "stdout",
     "output_type": "stream",
     "text": [
      "Coefficients for Model 1:\n",
      "const    -259.625907\n",
      "carat    3721.024852\n",
      "dtype: float64\n",
      "\n",
      "Coefficients for Model 2:\n",
      "const             141.659045\n",
      "carat_squared    7993.108083\n",
      "dtype: float64\n",
      "\n",
      "Coefficients for Model 3:\n",
      "const            -174.130082\n",
      "carat            2920.130591\n",
      "carat_squared    1739.901579\n",
      "dtype: float64\n"
     ]
    }
   ],
   "source": [
    "#3.4\n",
    "# Коэффициенты для Model 1\n",
    "coefficients_m1 = model1.params\n",
    "print(\"Coefficients for Model 1:\")\n",
    "print(coefficients_m1)\n",
    "\n",
    "# Коэффициенты для Model 2\n",
    "coefficients_m2 = model2.params\n",
    "print(\"\\nCoefficients for Model 2:\")\n",
    "print(coefficients_m2)\n",
    "\n",
    "# Коэффициенты для Model 3\n",
    "coefficients_m3 = model3.params\n",
    "print(\"\\nCoefficients for Model 3:\")\n",
    "print(coefficients_m3)\n"
   ]
  },
  {
   "cell_type": "markdown",
   "id": "e41eedf4",
   "metadata": {},
   "source": [
    "Коэффициенты каждой модели представляют значения, соответствующие свободному члену (const) и коэффициентам для переменной carat (или carat_squared в Model 2). Вот как их можно интерпретировать:\n",
    "\n",
    "1. **Coefficients for Model 1:**\n",
    "   - const: -259.63\n",
    "     - Это свободный член, который представляет оценку средней цены (price), когда вес алмаза (carat) равен нулю. В данном контексте это может быть не особенно смысловым, так как вес алмаза не может быть отрицательным.\n",
    "   - carat: 3721.02\n",
    "     - Этот коэффициент говорит нам, как изменяется средняя цена с увеличением веса алмаза на один карат. В данном случае, увеличение веса на один карат приведет к увеличению средней цены на примерно 3721.02 сингапурский доллар.\n",
    "\n",
    "2. **Coefficients for Model 2:**\n",
    "   - const: 141.66\n",
    "   - carat_squared: 7993.11\n",
    "     - Здесь const представляет среднюю цену при carat_squared равном нулю (то есть при carat равном нулю, так как carat_squared = carat^2). carat_squared: 7993.11 говорит о том, как изменится средняя цена с увеличением квадрата веса алмаза.\n",
    "\n",
    "3. **Coefficients for Model 3:**\n",
    "   - const: -174.13\n",
    "   - carat: 2920.13\n",
    "   - carat_squared: 1739.90\n",
    "     - Здесь const представляет среднюю цену при carat и carat_squared равными нулю. Значения carat и carat_squared говорят о том, как изменится средняя цена с увеличением веса алмаза и его квадрата.\n",
    "\n",
    "Интерпретация коэффициентов важна для понимания вклада каждой переменной в объяснение цены в модели. Каждая модель предлагает свои уникальные интерпретации в зависимости от того, какие переменные и их степени используются в уравнении."
   ]
  },
  {
   "cell_type": "code",
   "execution_count": 12,
   "id": "7f52c4ff",
   "metadata": {},
   "outputs": [
    {
     "data": {
      "image/png": "[encoded data removed]",
      "text/plain": [
       "<Figure size 640x480 with 1 Axes>"
      ]
     },
     "metadata": {},
     "output_type": "display_data"
    },
    {
     "ename": "NameError",
     "evalue": "name 'residuals_m1' is not defined",
     "output_type": "error",
     "traceback": [
      "\u001b[1;31m---------------------------------------------------------------------------\u001b[0m",
      "\u001b[1;31mNameError\u001b[0m                                 Traceback (most recent call last)",
      "\u001b[1;32m~\\AppData\\Local\\Temp\\ipykernel_20220\\3835060899.py\u001b[0m in \u001b[0;36m<module>\u001b[1;34m\u001b[0m\n\u001b[0;32m     11\u001b[0m \u001b[1;33m\u001b[0m\u001b[0m\n\u001b[0;32m     12\u001b[0m \u001b[1;31m# Q-Q plot для остатков\u001b[0m\u001b[1;33m\u001b[0m\u001b[1;33m\u001b[0m\u001b[0m\n\u001b[1;32m---> 13\u001b[1;33m \u001b[0msm\u001b[0m\u001b[1;33m.\u001b[0m\u001b[0mqqplot\u001b[0m\u001b[1;33m(\u001b[0m\u001b[0mresiduals_m1\u001b[0m\u001b[1;33m,\u001b[0m \u001b[0mline\u001b[0m\u001b[1;33m=\u001b[0m\u001b[1;34m's'\u001b[0m\u001b[1;33m)\u001b[0m\u001b[1;33m\u001b[0m\u001b[1;33m\u001b[0m\u001b[0m\n\u001b[0m\u001b[0;32m     14\u001b[0m \u001b[0mplt\u001b[0m\u001b[1;33m.\u001b[0m\u001b[0mtitle\u001b[0m\u001b[1;33m(\u001b[0m\u001b[1;34m'Q-Q Plot of Residuals for Model 3'\u001b[0m\u001b[1;33m)\u001b[0m\u001b[1;33m\u001b[0m\u001b[1;33m\u001b[0m\u001b[0m\n\u001b[0;32m     15\u001b[0m \u001b[0mplt\u001b[0m\u001b[1;33m.\u001b[0m\u001b[0mshow\u001b[0m\u001b[1;33m(\u001b[0m\u001b[1;33m)\u001b[0m\u001b[1;33m\u001b[0m\u001b[1;33m\u001b[0m\u001b[0m\n",
      "\u001b[1;31mNameError\u001b[0m: name 'residuals_m1' is not defined"
     ]
    }
   ],
   "source": [
    "#3.5\n",
    "# Анализ остатков для Model 1 (можете применить аналогичный код для Model 2 и Model 3)\n",
    "residuals_m3 = model3.resid\n",
    "\n",
    "# Гистограмма остатков\n",
    "plt.hist(residuals_m3, bins=20, color='blue', alpha=0.7)\n",
    "plt.title('Histogram of Residuals for Model 3')\n",
    "plt.xlabel('Residuals')\n",
    "plt.ylabel('Frequency')\n",
    "plt.show()\n",
    "\n",
    "# Q-Q plot для остатков\n",
    "sm.qqplot(residuals_m1, line='s')\n",
    "plt.title('Q-Q Plot of Residuals for Model 3')\n",
    "plt.show()\n"
   ]
  },
  {
   "cell_type": "code",
   "execution_count": null,
   "id": "bb99083b",
   "metadata": {},
   "outputs": [],
   "source": [
    "from scipy.stats import shapiro\n",
    "\n",
    "# Предположим, что у вас есть остатки residuals_m3 из анализа Model 3\n",
    "\n",
    "# Тест Шапиро-Уилка на нормальность остатков\n",
    "stat, p_value = shapiro(residuals_m3)\n",
    "\n",
    "# Вывод результатов теста\n",
    "print(f'Shapiro-Wilk Test Statistic: {stat}')\n",
    "print(f'p-value: {p_value}')\n",
    "\n",
    "# Проверка статистической значимости p-value\n",
    "alpha = 0.05\n",
    "if p_value > alpha:\n",
    "    print(\"Не удалось отвергнуть нулевую гипотезу: данные близки к нормальному распределению\")\n",
    "else:\n",
    "    print(\"Отвергаем нулевую гипотезу: данные не близки к нормальному распределению\")\n"
   ]
  },
  {
   "cell_type": "markdown",
   "id": "54d15131",
   "metadata": {},
   "source": [
    "По анализу остатков можно сделать несколько выводов:\n",
    "\n",
    "Гистограмма остатков:\n",
    "\n",
    "Если гистограмма остатков близка к нормальному распределению, это может свидетельствовать о том, что модель хорошо соответствует данным. В данном случае, гистограмма остатков имеет форму, близкую к нормальной, что может говорить о том, что остатки в Model 3 распределены относительно нормально.\n",
    "Q-Q Plot:\n",
    "\n",
    "Q-Q Plot представляет график, на котором оценивается нормальность распределения остатков. Если точки на графике следуют приблизительно прямой линии, это также указывает на нормальное распределение остатков. В данном случае, если код был скопирован верно (не ошибка в названии переменной), использование residuals_m1 вместо residuals_m3 для Q-Q Plot Model 3, то график Q-Q Plot может быть некорректным.\n",
    "Общие выводы:\n",
    "\n",
    "Нормальное распределение остатков - это одно из предположений линейной регрессии. На основе гистограммы, кажется, что остатки распределены относительно нормально в Model 3.\n",
    "Для более точного анализа остатков, особенно если сомнения о нормальности, можно использовать дополнительные статистические тесты, такие как тест Шапиро-Уилка."
   ]
  },
  {
   "cell_type": "markdown",
   "id": "1cac7931",
   "metadata": {},
   "source": [
    "**4 На основе проведенного анализа выберите одну из моделей для дальнейшей оценки цен колец с алмазами**"
   ]
  },
  {
   "cell_type": "markdown",
   "id": "77bdcef6",
   "metadata": {},
   "source": [
    "На основе проведенного анализа, включая коэффициенты детерминации (R-squared), значимость F-статистики, информационные критерии (AIC, BIC), и анализ остатков, я решил выбрать Model 3 для дальнейшей оценки цен колец с алмазами. Важно подчеркнуть, что выбор модели может зависеть от конкретных целей анализа и контекста задачи."
   ]
  },
  {
   "cell_type": "code",
   "execution_count": null,
   "id": "f97f720e",
   "metadata": {},
   "outputs": [],
   "source": []
  }
 ],
 "metadata": {
  "kernelspec": {
   "display_name": "Python 3 (ipykernel)",
   "language": "python",
   "name": "python3"
  },
  "language_info": {
   "codemirror_mode": {
    "name": "ipython",
    "version": 3
   },
   "file_extension": ".py",
   "mimetype": "text/x-python",
   "name": "python",
   "nbconvert_exporter": "python",
   "pygments_lexer": "ipython3",
   "version": "3.9.13"
  }
 },
 "nbformat": 4,
 "nbformat_minor": 5
}
